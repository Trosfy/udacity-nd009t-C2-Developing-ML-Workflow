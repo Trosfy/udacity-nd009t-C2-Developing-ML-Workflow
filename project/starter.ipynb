{
 "cells": [
  {
   "cell_type": "markdown",
   "metadata": {},
   "source": [
    "# Deploy and monitor a machine learning workflow for Image Classification"
   ]
  },
  {
   "cell_type": "markdown",
   "metadata": {},
   "source": [
    "## Setting up this notebook\n",
    "\n",
    "Notes about the instance size and kernel setup: this notebook has been tested on\n",
    "\n",
    "1. The `Python 3 (Data Science)` kernel\n",
    "2. The `ml.t3.medium` Sagemaker notebook instance\n",
    "\n",
    "## Data Staging\n",
    "\n",
    "We'll use a sample dataset called CIFAR to simulate the challenges Scones Unlimited are facing in Image Classification. In order to start working with CIFAR we'll need to:\n",
    "\n",
    "1. Extract the data from a hosting service\n",
    "2. Transform it into a usable shape and format\n",
    "3. Load it into a production system\n",
    "\n",
    "In other words, we're going to do some simple ETL!\n",
    "\n",
    "### 1. Extract the data from the hosting service\n",
    "\n",
    "In the cell below, define a function `extract_cifar_data` that extracts python version of the CIFAR-100 dataset. The CIFAR dataaset is open source and generously hosted by the University of Toronto at: https://www.cs.toronto.edu/~kriz/cifar-100-python.tar.gz "
   ]
  },
  {
   "cell_type": "code",
   "execution_count": 2,
   "metadata": {
    "tags": []
   },
   "outputs": [],
   "source": [
    "import requests\n",
    "\n",
    "def extract_cifar_data(url, filename=\"cifar.tar.gz\"):\n",
    "    \"\"\"A function for extracting the CIFAR-100 dataset and storing it as a gzipped file\n",
    "    \n",
    "    Arguments:\n",
    "    url      -- the URL where the dataset is hosted\n",
    "    filename -- the full path where the dataset will be written\n",
    "    \n",
    "    \"\"\"\n",
    "    \n",
    "    # Todo: request the data from the data url\n",
    "    # Hint: use `requests.get` method\n",
    "    r = requests.get(url)\n",
    "    \n",
    "    with open(filename, \"wb\") as file_context:\n",
    "        file_context.write(r.content)\n",
    "    return"
   ]
  },
  {
   "cell_type": "markdown",
   "metadata": {},
   "source": [
    "Let's test it out! Run the following cell and check whether a new file `cifar.tar.gz` is created in the file explorer."
   ]
  },
  {
   "cell_type": "code",
   "execution_count": 3,
   "metadata": {
    "tags": []
   },
   "outputs": [],
   "source": [
    "extract_cifar_data(\"https://www.cs.toronto.edu/~kriz/cifar-100-python.tar.gz\")     "
   ]
  },
  {
   "cell_type": "markdown",
   "metadata": {},
   "source": [
    "### 2. Transform the data into a usable shape and format\n",
    "\n",
    "Clearly, distributing the data as a gzipped archive makes sense for the hosting service! It saves on bandwidth, storage, and it's a widely-used archive format. In fact, it's so widely used that the Python community ships a utility for working with them, `tarfile`, as part of its Standard Library. Execute the following cell to decompress your extracted dataset:"
   ]
  },
  {
   "cell_type": "code",
   "execution_count": 4,
   "metadata": {
    "tags": []
   },
   "outputs": [],
   "source": [
    "import tarfile\n",
    "\n",
    "with tarfile.open(\"cifar.tar.gz\", \"r:gz\") as tar:\n",
    "    tar.extractall()"
   ]
  },
  {
   "cell_type": "markdown",
   "metadata": {},
   "source": [
    "A new folder `cifar-100-python` should be created, containing `meta`, `test`, and `train` files. These files are `pickles` and the [CIFAR homepage](https://www.cs.toronto.edu/~kriz/cifar.html) provides a simple script that can be used to load them. We've adapted the script below for you to run:"
   ]
  },
  {
   "cell_type": "code",
   "execution_count": 3,
   "metadata": {
    "tags": []
   },
   "outputs": [],
   "source": [
    "import pickle\n",
    "\n",
    "with open(\"./cifar-100-python/meta\", \"rb\") as f:\n",
    "    dataset_meta = pickle.load(f, encoding='bytes')\n",
    "\n",
    "with open(\"./cifar-100-python/test\", \"rb\") as f:\n",
    "    dataset_test = pickle.load(f, encoding='bytes')\n",
    "\n",
    "with open(\"./cifar-100-python/train\", \"rb\") as f:\n",
    "    dataset_train = pickle.load(f, encoding='bytes')"
   ]
  },
  {
   "cell_type": "code",
   "execution_count": 6,
   "metadata": {
    "tags": []
   },
   "outputs": [
    {
     "data": {
      "text/plain": [
       "dict_keys([b'filenames', b'batch_label', b'fine_labels', b'coarse_labels', b'data'])"
      ]
     },
     "execution_count": 6,
     "metadata": {},
     "output_type": "execute_result"
    }
   ],
   "source": [
    "# Feel free to explore the datasets\n",
    "\n",
    "dataset_train.keys()"
   ]
  },
  {
   "cell_type": "markdown",
   "metadata": {},
   "source": [
    "As documented on the homepage, `b'data'` contains rows of 3073 unsigned integers, representing three channels (red, green, and blue) for one 32x32 pixel image per row."
   ]
  },
  {
   "cell_type": "code",
   "execution_count": 7,
   "metadata": {
    "tags": []
   },
   "outputs": [
    {
     "data": {
      "text/plain": [
       "3072"
      ]
     },
     "execution_count": 7,
     "metadata": {},
     "output_type": "execute_result"
    }
   ],
   "source": [
    "32*32*3"
   ]
  },
  {
   "cell_type": "markdown",
   "metadata": {},
   "source": [
    "For a simple gut-check, let's transform one of our images. Each 1024 items in a row is a channel (red, green, then blue). Each 32 items in the channel are a row in the 32x32 image. Using python, we can stack these channels into a 32x32x3 array, and save it as a PNG file:"
   ]
  },
  {
   "cell_type": "code",
   "execution_count": 8,
   "metadata": {
    "tags": []
   },
   "outputs": [],
   "source": [
    "import numpy as np\n",
    "\n",
    "# Each 1024 in a row is a channel (red, green, then blue)\n",
    "row = dataset_train[b'data'][0]\n",
    "red, green, blue = row[0:1024], row[1024:2048], row[2048:]\n",
    "\n",
    "# Each 32 items in the channel are a row in the 32x32 image\n",
    "red = red.reshape(32,32)\n",
    "green = green.reshape(32,32)\n",
    "blue = blue.reshape(32,32)\n",
    "\n",
    "# Combine the channels into a 32x32x3 image!\n",
    "combined = np.dstack((red,green,blue))"
   ]
  },
  {
   "cell_type": "markdown",
   "metadata": {},
   "source": [
    "For a more concise version, consider the following:"
   ]
  },
  {
   "cell_type": "code",
   "execution_count": 9,
   "metadata": {
    "tags": []
   },
   "outputs": [],
   "source": [
    "# All in one:\n",
    "test_image = np.dstack((\n",
    "    row[0:1024].reshape(32,32),\n",
    "    row[1024:2048].reshape(32,32),\n",
    "    row[2048:].reshape(32,32)\n",
    "))"
   ]
  },
  {
   "cell_type": "code",
   "execution_count": 10,
   "metadata": {
    "tags": []
   },
   "outputs": [],
   "source": [
    "import matplotlib.pyplot as plt\n",
    "plt.imshow(test_image);"
   ]
  },
  {
   "cell_type": "markdown",
   "metadata": {},
   "source": [
    "Looks like a cow! Let's check the label. `dataset_meta` contains label names in order, and `dataset_train` has a list of labels for each row."
   ]
  },
  {
   "cell_type": "code",
   "execution_count": 11,
   "metadata": {
    "tags": []
   },
   "outputs": [
    {
     "data": {
      "text/plain": [
       "19"
      ]
     },
     "execution_count": 11,
     "metadata": {},
     "output_type": "execute_result"
    }
   ],
   "source": [
    "dataset_train[b'fine_labels'][0]"
   ]
  },
  {
   "cell_type": "markdown",
   "metadata": {},
   "source": [
    "Our image has a label of `19`, so let's see what the 19th item is in the list of label names."
   ]
  },
  {
   "cell_type": "code",
   "execution_count": 12,
   "metadata": {
    "tags": []
   },
   "outputs": [
    {
     "name": "stdout",
     "output_type": "stream",
     "text": [
      "b'cattle'\n"
     ]
    }
   ],
   "source": [
    "print(dataset_meta[b'fine_label_names'][19])"
   ]
  },
  {
   "cell_type": "markdown",
   "metadata": {},
   "source": [
    "Ok! 'cattle' sounds about right. By the way, using the previous two lines we can do:"
   ]
  },
  {
   "cell_type": "code",
   "execution_count": 13,
   "metadata": {
    "tags": []
   },
   "outputs": [
    {
     "name": "stdout",
     "output_type": "stream",
     "text": [
      "b'cattle'\n"
     ]
    }
   ],
   "source": [
    "n = 0\n",
    "print(dataset_meta[b'fine_label_names'][dataset_train[b'fine_labels'][n]])"
   ]
  },
  {
   "cell_type": "markdown",
   "metadata": {},
   "source": [
    "Now we know how to check labels, is there a way that we can also check file names? `dataset_train` also contains a `b'filenames'` key. Let's see what we have here:"
   ]
  },
  {
   "cell_type": "code",
   "execution_count": 14,
   "metadata": {
    "tags": []
   },
   "outputs": [
    {
     "name": "stdout",
     "output_type": "stream",
     "text": [
      "b'bos_taurus_s_000507.png'\n"
     ]
    }
   ],
   "source": [
    "print(dataset_train[b'filenames'][0])"
   ]
  },
  {
   "cell_type": "markdown",
   "metadata": {},
   "source": [
    "\"Taurus\" is the name of a subspecies of cattle, so this looks like a pretty reasonable filename. To save an image we can also do:"
   ]
  },
  {
   "cell_type": "code",
   "execution_count": 15,
   "metadata": {
    "tags": []
   },
   "outputs": [],
   "source": [
    "plt.imsave(\"file.png\", test_image)"
   ]
  },
  {
   "cell_type": "markdown",
   "metadata": {},
   "source": [
    "Your new PNG file should now appear in the file explorer -- go ahead and pop it open to see!\n",
    "\n",
    "Now that you know how to reshape the images, save them as files, and capture their filenames and labels, let's just capture all the bicycles and motorcycles and save them. Scones Unlimited can use a model that tells these apart to route delivery drivers automatically.\n",
    "\n",
    "In the following cell, identify the label numbers for Bicycles and Motorcycles:"
   ]
  },
  {
   "cell_type": "code",
   "execution_count": 7,
   "metadata": {
    "collapsed": true,
    "jupyter": {
     "outputs_hidden": true
    },
    "tags": []
   },
   "outputs": [
    {
     "name": "stdout",
     "output_type": "stream",
     "text": [
      "[16, 30, 130, 219, 298, 575, 663, 921, 964, 984, 996, 1023, 1114, 1158, 1255, 1290, 1362, 1457, 1555, 1564, 1747, 1818, 2010, 2079, 2105, 2163, 2599, 2838, 2852, 2973, 3053, 3228, 3286, 3566, 3584, 3597, 3616, 3653, 3954, 4207, 4212, 4221, 4291, 4320, 4367, 4437, 4448, 4600, 4690, 4838, 4900, 4911, 4921, 5001, 5033, 5152, 5213, 5352, 5375, 5386, 5566, 5588, 5640, 5757, 5759, 5830, 5866, 5886, 6070, 6092, 6222, 6293, 6330, 6386, 6519, 6540, 6701, 6832, 6903, 7101, 7105, 7119, 7120, 7137, 7161, 7229, 7255, 7286, 7362, 7517, 7699, 7715, 7946, 8153, 8191, 8222, 8355, 8408, 8509, 8545, 8674, 8715, 8744, 8780, 8933, 9006, 9066, 9074, 9094, 9101, 9132, 9230, 9317, 9356, 9439, 9518, 9534, 9572, 9614, 9615, 9650, 9657, 9827, 9972, 10098, 10468, 10477, 10504, 10523, 10762, 10794, 10798, 10951, 11106, 11229, 11381, 11383, 11388, 11451, 11617, 11653, 11717, 11751, 11789, 11819, 11955, 12023, 12188, 12231, 12296, 12767, 12964, 13089, 13295, 13298, 13327, 13482, 13582, 13684, 13692, 13716, 13772, 13809, 13879, 14027, 14067, 14254, 14312, 14369, 14485, 14551, 14783, 14786, 15036, 15108, 15177, 15267, 15361, 15385, 15444, 15600, 15641, 15733, 15756, 15867, 16015, 16185, 16271, 16285, 16402, 16416, 16448, 16479, 16565, 16568, 16606, 16660, 16800, 16839, 17049, 17125, 17250, 17257, 17310, 17373, 17379, 17471, 17481, 17517, 17540, 17730, 17971, 18164, 18232, 18322, 18327, 18556, 18664, 18671, 18794, 18796, 18831, 18951, 19021, 19152, 19154, 19511, 19518, 19628, 19675, 19925, 19933, 19941, 19958, 20397, 20548, 20580, 20733, 20982, 21945, 21956, 21959, 22005, 22028, 22116, 22173, 22237, 22303, 22304, 22403, 22516, 22535, 22661, 22748, 22793, 22811, 22852, 22862, 22948, 22967, 23335, 23351, 23603, 23616, 23669, 23715, 23763, 23888, 23986, 24411, 24467, 24501, 24570, 24655, 24723, 25035, 25326, 25509, 25568, 25640, 26060, 26108, 26114, 26173, 26185, 26216, 26228, 26371, 26468, 26487, 26529, 26549, 26635, 26648, 26948, 26971, 27008, 27134, 27198, 27219, 27233, 27274, 27301, 27306, 27326, 27345, 27375, 27425, 27526, 27691, 27747, 27808, 28014, 28067, 28311, 28500, 28530, 28559, 28698, 29044, 29185, 29351, 29430, 29550, 29923, 29966, 29988, 30526, 30584, 30971, 31026, 31105, 31181, 31209, 31230, 31381, 31476, 31528, 31654, 31779, 31882, 31889, 32023, 32143, 32183, 32320, 32321, 32392, 32551, 32573, 32713, 32842, 32849, 32999, 33025, 33075, 33078, 33226, 33385, 33388, 33544, 33548, 33609, 33858, 33948, 34172, 34346, 34354, 34391, 34413, 34500, 34563, 34644, 34717, 34719, 34794, 34882, 34945, 35094, 35210, 35211, 35212, 35238, 35252, 35368, 35552, 35617, 35695, 35813, 35817, 36188, 36269, 36286, 36493, 36512, 36744, 36996, 37024, 37081, 37439, 37469, 37517, 37539, 37560, 37594, 37733, 37814, 37912, 37918, 37958, 38017, 38126, 38229, 38391, 38915, 39117, 39157, 39276, 39380, 39445, 39632, 39754, 39967, 40041, 40081, 40156, 40189, 40248, 40455, 40537, 40561, 40686, 40951, 41343, 41548, 41735, 42056, 42107, 42154, 42315, 42499, 42539, 42570, 42613, 42768, 42856, 42892, 43033, 43052, 43316, 43343, 43412, 43422, 43434, 43464, 43468, 43550, 43559, 43573, 43688, 43847, 44423, 44543, 44666, 44709, 45233, 45449, 45461, 45489, 45605, 45638, 45673, 45676, 45692, 45769, 46106, 46157, 46161, 46186, 46203, 46389, 46570, 46899, 46922, 47175, 47344, 47469, 47510, 47519, 47567, 47792, 48045, 48198, 48553, 49151, 49172, 49192, 49485, 49578, 49962] [152, 195, 251, 252, 370, 390, 392, 408, 560, 576, 682, 785, 839, 922, 1132, 1170, 1334, 1357, 1644, 1841, 1885, 1942, 1964, 1965, 2296, 2319, 2499, 2525, 2598, 2790, 2952, 3162, 3464, 3574, 3676, 3817, 3923, 4027, 4036, 4097, 4197, 4416, 4478, 4509, 4654, 4693, 4779, 4803, 4880, 4957, 4997, 5312, 5403, 5551, 5882, 5975, 6084, 6123, 6252, 6333, 6687, 6710, 6718, 6733, 6741, 6853, 6870, 6895, 7026, 7070, 7185, 7253, 7282, 7505, 7650, 7719, 7732, 7896, 7943, 7976, 8138, 8209, 8247, 8322, 8533, 8579, 8585, 8595, 8657, 8740, 8797, 8868, 8885, 9035, 9089, 9137, 9199, 9328, 9455, 9601, 9743, 9797, 10000, 10050, 10083, 10091, 10129, 10377, 10557, 10571, 10608, 10620, 10632, 10665, 10741, 11080, 11174, 11262, 11307, 11311, 11625, 11708, 11975, 12058, 12130, 12265, 12633, 12822, 12845, 13009, 13279, 13322, 13520, 13532, 13576, 13642, 13740, 13762, 13786, 13860, 13997, 14197, 14306, 14418, 14437, 14504, 14679, 14715, 15007, 15083, 15130, 15193, 15312, 15335, 15352, 15447, 15535, 15564, 15569, 15830, 15851, 15888, 16093, 16124, 16150, 16380, 16417, 16497, 16574, 16609, 16701, 17073, 17160, 17165, 17220, 17648, 17988, 18020, 18462, 18518, 18787, 18892, 18995, 19015, 19336, 19343, 19351, 19532, 19701, 19743, 19849, 19972, 20177, 20221, 20237, 20267, 20498, 20601, 20647, 20684, 20712, 20806, 20842, 20870, 20985, 21067, 21077, 21309, 21584, 21687, 21730, 22003, 22004, 22026, 22275, 22355, 22480, 22564, 22565, 22581, 22673, 22699, 22760, 22807, 22816, 22947, 22983, 23228, 23274, 23537, 23587, 23744, 23908, 24103, 24124, 24130, 24170, 24182, 24246, 24284, 24343, 24461, 24505, 24804, 24813, 25033, 25230, 25319, 25320, 25346, 25349, 25350, 25371, 25476, 25584, 25645, 25734, 25863, 25866, 25871, 26026, 26050, 26326, 26486, 26491, 26890, 26944, 27125, 27154, 27614, 27656, 27777, 27788, 27920, 27961, 27963, 28051, 28062, 28073, 28147, 28259, 28295, 28368, 28396, 28421, 28424, 28879, 28898, 29119, 29180, 29236, 29237, 29245, 29553, 29586, 29825, 29857, 30008, 30247, 30293, 30301, 30395, 30497, 30611, 30959, 31164, 31243, 31260, 31319, 31343, 31370, 31378, 31518, 31601, 31706, 31900, 31954, 32078, 32652, 32674, 32677, 32746, 32788, 32868, 32974, 33128, 33274, 33413, 33457, 33501, 33569, 33570, 33668, 33856, 33870, 34039, 34076, 34145, 34150, 34221, 34397, 34434, 34468, 34614, 34616, 34627, 34685, 34826, 34861, 34903, 34916, 35095, 35206, 35481, 35589, 35716, 35747, 35760, 35876, 35988, 36091, 36150, 36200, 36253, 36302, 36333, 36476, 36530, 36614, 36650, 36907, 36957, 37008, 37096, 37180, 37256, 37435, 37568, 37790, 37853, 37872, 38021, 38230, 38322, 38367, 38382, 38573, 38752, 38936, 38973, 39131, 39282, 39287, 39397, 39781, 39848, 39915, 39972, 39990, 40050, 40171, 40496, 40797, 40892, 41043, 41044, 41086, 41144, 41180, 41294, 41306, 41439, 41612, 41694, 41800, 41848, 41982, 42193, 42543, 42732, 42861, 42995, 43338, 43481, 43593, 43594, 43762, 43895, 43981, 44000, 44015, 44142, 44291, 44300, 44351, 44464, 44468, 44506, 44551, 44553, 44635, 44678, 44702, 44862, 44863, 44927, 44967, 45046, 45191, 45336, 45393, 45442, 45483, 45529, 45763, 45807, 45847, 45859, 45950, 46022, 46288, 46316, 46363, 46515, 46667, 46675, 46724, 46785, 46955, 46996, 47180, 47302, 47374, 47466, 47721, 47772, 47888, 48028, 48044, 48089, 48112, 48220, 48271, 48295, 48375, 48546, 48575, 48760, 48837, 48887, 48941, 48958, 48980, 49176, 49249, 49452, 49492, 49588, 49882, 49985]\n"
     ]
    }
   ],
   "source": [
    "import pandas as pd\n",
    "\n",
    "# Todo: Filter the dataset_train and dataset_meta objects to find the label numbers for Bicycle and Motorcycles\n",
    "# bicycle_label_name = label_names.index(b'bicycle')\n",
    "# motorcycle_label_name = label_names.index(b'motorcycle')\n",
    "# print(bicycle_label_name, motorcycle_label_name)\n",
    "bicycle_label_numbers=[]\n",
    "motorcycle_label_numbers=[]\n",
    "idx=0\n",
    "for i in dataset_train[b'fine_labels']:\n",
    "    # print(type(dataset_meta[b'fine_label_names'][i]))\n",
    "    if dataset_meta[b'fine_label_names'][i] == b'bicycle':\n",
    "        bicycle_label_numbers.append(idx)\n",
    "    if dataset_meta[b'fine_label_names'][i] == b'motorcycle':\n",
    "        motorcycle_label_numbers.append(idx)\n",
    "    idx+=1\n",
    "print(bicycle_label_numbers, motorcycle_label_numbers)"
   ]
  },
  {
   "cell_type": "markdown",
   "metadata": {},
   "source": [
    "Good job! We only need objects with label 8 and 48 -- this drastically simplifies our handling of the data! Below we construct a dataframe for you, and you can safely drop the rows that don't contain observations about bicycles and motorcycles. Fill in the missing lines below to drop all other rows:"
   ]
  },
  {
   "cell_type": "code",
   "execution_count": 8,
   "metadata": {
    "tags": []
   },
   "outputs": [
    {
     "name": "stdout",
     "output_type": "stream",
     "text": [
      "1000\n"
     ]
    }
   ],
   "source": [
    "#Construct the dataframe\n",
    "df_train = pd.DataFrame({\n",
    "    \"filenames\": dataset_train[b'filenames'],\n",
    "    \"labels\": dataset_train[b'fine_labels'],\n",
    "    \"row\": range(len(dataset_train[b'filenames']))\n",
    "})\n",
    "\n",
    "# Drop all rows from df_train where label is not 8 or 48\n",
    "df_train = df_train[df_train['labels'].isin([8, 48])]\n",
    "\n",
    "# Decode df_train.filenames so they are regular strings\n",
    "df_train[\"filenames\"] = df_train[\"filenames\"].apply(\n",
    "    lambda x: x.decode(\"utf-8\")\n",
    ")\n",
    "\n",
    "\n",
    "df_test = pd.DataFrame({\n",
    "    \"filenames\": dataset_test[b'filenames'],\n",
    "    \"labels\": dataset_test[b'fine_labels'],\n",
    "    \"row\": range(len(dataset_test[b'filenames']))\n",
    "})\n",
    "\n",
    "# Drop all rows from df_test where label is not 8 or 48\n",
    "df_test = df_test[df_test['labels'].isin([8, 48])]\n",
    "\n",
    "# Decode df_test.filenames so they are regular strings\n",
    "df_test[\"filenames\"] = df_test[\"filenames\"].apply(\n",
    "    lambda x: x.decode(\"utf-8\")\n",
    ")\n",
    "print(len(df_train))"
   ]
  },
  {
   "cell_type": "markdown",
   "metadata": {},
   "source": [
    "Now that the data is filtered for just our classes, we can save all our images."
   ]
  },
  {
   "cell_type": "code",
   "execution_count": 83,
   "metadata": {
    "tags": []
   },
   "outputs": [
    {
     "name": "stdout",
     "output_type": "stream",
     "text": [
      "mkdir: cannot create directory ‘./test’: File exists\n"
     ]
    }
   ],
   "source": [
    "!mkdir ./train\n",
    "!mkdir ./test"
   ]
  },
  {
   "cell_type": "code",
   "execution_count": 82,
   "metadata": {
    "tags": []
   },
   "outputs": [],
   "source": [
    "!rm -rf train*"
   ]
  },
  {
   "cell_type": "markdown",
   "metadata": {},
   "source": [
    "In the previous sections we introduced you to several key snippets of code:\n",
    "\n",
    "1. Grabbing the image data:\n",
    "\n",
    "```python\n",
    "dataset_train[b'data'][0]\n",
    "```\n",
    "\n",
    "2. A simple idiom for stacking the image data into the right shape\n",
    "\n",
    "```python\n",
    "import numpy as np\n",
    "np.dstack((\n",
    "    row[0:1024].reshape(32,32),\n",
    "    row[1024:2048].reshape(32,32),\n",
    "    row[2048:].reshape(32,32)\n",
    "))\n",
    "```\n",
    "\n",
    "3. A simple `matplotlib` utility for saving images\n",
    "\n",
    "```python\n",
    "plt.imsave(path+row['filenames'], target)\n",
    "```\n",
    "\n",
    "Compose these together into a function that saves all the images into the `./test` and `./train` directories. Use the comments in the body of the `save_images` function below to guide your construction of the function:\n"
   ]
  },
  {
   "cell_type": "code",
   "execution_count": 87,
   "metadata": {
    "tags": []
   },
   "outputs": [],
   "source": [
    "def save_images(df, dataset, path):\n",
    "    for row in df[\"row\"]:\n",
    "        #Grab the image data in row-major form\n",
    "        images = dataset[b'data'][row]\n",
    "        # Consolidated stacking/reshaping from earlier\n",
    "        target = np.dstack((\n",
    "            images[0:1024].reshape(32,32),\n",
    "            images[1024:2048].reshape(32,32),\n",
    "            images[2048:].reshape(32,32)\n",
    "        ))\n",
    "        # print(df['filenames'][row])\n",
    "        # Save the image\n",
    "        plt.imsave(path+df['filenames'][row], target)\n",
    "    # Return any signal data you want for debugging\n",
    "    return\n",
    "\n",
    "## TODO: save ALL images using the save_images function\n",
    "save_images(df=df_train, dataset=dataset_train, path=\"./train/\")\n",
    "save_images(df=df_test, dataset=dataset_test, path=\"./test/\")"
   ]
  },
  {
   "cell_type": "markdown",
   "metadata": {},
   "source": [
    "### 3. Load the data\n",
    "\n",
    "Now we can load the data into S3.\n",
    "\n",
    "Using the sagemaker SDK grab the current region, execution role, and bucket."
   ]
  },
  {
   "cell_type": "code",
   "execution_count": 9,
   "metadata": {},
   "outputs": [
    {
     "name": "stdout",
     "output_type": "stream",
     "text": [
      "Default Bucket: sagemaker-us-east-1-842592891764\n",
      "AWS Region: us-east-1\n",
      "RoleArn: arn:aws:iam::842592891764:role/service-role/AmazonSageMaker-ExecutionRole-20230825T140091\n"
     ]
    }
   ],
   "source": [
    "import sagemaker\n",
    "\n",
    "session = sagemaker.Session()\n",
    "bucket = session.default_bucket()\n",
    "\n",
    "bucket= session.default_bucket()\n",
    "print(\"Default Bucket: {}\".format(bucket))\n",
    "\n",
    "region = session.boto_region_name\n",
    "print(\"AWS Region: {}\".format(region))\n",
    "\n",
    "role = sagemaker.get_execution_role()\n",
    "print(\"RoleArn: {}\".format(role))"
   ]
  },
  {
   "cell_type": "markdown",
   "metadata": {},
   "source": [
    "With this data we can easily sync your data up into S3!"
   ]
  },
  {
   "cell_type": "code",
   "execution_count": 10,
   "metadata": {
    "tags": []
   },
   "outputs": [],
   "source": [
    "import os\n",
    "\n",
    "os.environ[\"DEFAULT_S3_BUCKET\"] = bucket\n",
    "!aws s3 sync ./train s3://${DEFAULT_S3_BUCKET}/train/\n",
    "!aws s3 sync ./test s3://${DEFAULT_S3_BUCKET}/test/"
   ]
  },
  {
   "cell_type": "markdown",
   "metadata": {},
   "source": [
    "And that's it! You can check the bucket and verify that the items were uploaded.\n",
    "\n",
    "## Model Training\n",
    "\n",
    "For Image Classification, Sagemaker [also expects metadata](https://docs.aws.amazon.com/sagemaker/latest/dg/image-classification.html) e.g. in the form of TSV files with labels and filepaths. We can generate these using our Pandas DataFrames from earlier:"
   ]
  },
  {
   "cell_type": "code",
   "execution_count": 91,
   "metadata": {},
   "outputs": [],
   "source": [
    "def to_metadata_file(df, prefix):\n",
    "    df[\"s3_path\"] = df[\"filenames\"]\n",
    "    df[\"labels\"] = df[\"labels\"].apply(lambda x: 0 if x==8 else 1)\n",
    "    return df[[\"row\", \"labels\", \"s3_path\"]].to_csv(\n",
    "        f\"{prefix}.lst\", sep=\"\\t\", index=False, header=False\n",
    "    )\n",
    "    \n",
    "to_metadata_file(df_train.copy(), \"train\")\n",
    "to_metadata_file(df_test.copy(), \"test\")"
   ]
  },
  {
   "cell_type": "markdown",
   "metadata": {},
   "source": [
    "We can also upload our manifest files:"
   ]
  },
  {
   "cell_type": "code",
   "execution_count": 11,
   "metadata": {},
   "outputs": [],
   "source": [
    "import boto3\n",
    "\n",
    "# Upload files\n",
    "boto3.Session().resource('s3').Bucket(\n",
    "    bucket).Object('train.lst').upload_file('./train.lst')\n",
    "boto3.Session().resource('s3').Bucket(\n",
    "    bucket).Object('test.lst').upload_file('./test.lst')"
   ]
  },
  {
   "cell_type": "markdown",
   "metadata": {},
   "source": [
    "Using the `bucket` and `region` info we can get the latest prebuilt container to run our training job, and define an output location on our s3 bucket for the model. Use the `image_uris` function from the SageMaker SDK to retrieve the latest `image-classification` image below:"
   ]
  },
  {
   "cell_type": "code",
   "execution_count": 12,
   "metadata": {},
   "outputs": [],
   "source": [
    "# Use the image_uris function to retrieve the latest 'image-classification' image \n",
    "algo_image = sagemaker.image_uris.retrieve(\"image-classification\", region=region)\n",
    "s3_output_location = f\"s3://{bucket}/models/image_model\""
   ]
  },
  {
   "cell_type": "markdown",
   "metadata": {},
   "source": [
    "We're ready to create an estimator! Create an estimator `img_classifier_model` that uses one instance of `ml.p3.2xlarge`. Ensure that y ou use the output location we defined above - we'll be referring to that later!"
   ]
  },
  {
   "cell_type": "code",
   "execution_count": 13,
   "metadata": {},
   "outputs": [],
   "source": [
    "img_classifier_model=sagemaker.estimator.Estimator(\n",
    "    image_uri=algo_image,\n",
    "    instance_type=\"ml.p3.2xlarge\",\n",
    "    instance_count=1,\n",
    "    output_path=s3_output_location,\n",
    "    role=role\n",
    ")"
   ]
  },
  {
   "cell_type": "markdown",
   "metadata": {},
   "source": [
    "We can also set a few key hyperparameters and define the inputs for our model:"
   ]
  },
  {
   "cell_type": "code",
   "execution_count": 14,
   "metadata": {},
   "outputs": [],
   "source": [
    "img_classifier_model.set_hyperparameters(\n",
    "    image_shape=\"3,32,32\",\n",
    "    num_classes=2,\n",
    "    num_training_samples= 1000,\n",
    ")"
   ]
  },
  {
   "cell_type": "markdown",
   "metadata": {},
   "source": [
    "The `image-classification` image uses four input channels with very specific input parameters. For convenience, we've provided them below:"
   ]
  },
  {
   "cell_type": "code",
   "execution_count": 15,
   "metadata": {},
   "outputs": [],
   "source": [
    "from sagemaker.debugger import Rule, rule_configs\n",
    "from sagemaker.session import TrainingInput\n",
    "model_inputs = {\n",
    "        \"train\": sagemaker.inputs.TrainingInput(\n",
    "            s3_data=f\"s3://{bucket}/train/\",\n",
    "            content_type=\"application/x-image\"\n",
    "        ),\n",
    "        \"validation\": sagemaker.inputs.TrainingInput(\n",
    "            s3_data=f\"s3://{bucket}/test/\",\n",
    "            content_type=\"application/x-image\"\n",
    "        ),\n",
    "        \"train_lst\": sagemaker.inputs.TrainingInput(\n",
    "            s3_data=f\"s3://{bucket}/train.lst\",\n",
    "            content_type=\"application/x-image\"\n",
    "        ),\n",
    "        \"validation_lst\": sagemaker.inputs.TrainingInput(\n",
    "            s3_data=f\"s3://{bucket}/test.lst\",\n",
    "            content_type=\"application/x-image\"\n",
    "        )\n",
    "}"
   ]
  },
  {
   "cell_type": "markdown",
   "metadata": {},
   "source": [
    "Great, now we can train the model using the model_inputs. In the cell below, call the `fit` method on our model,:"
   ]
  },
  {
   "cell_type": "code",
   "execution_count": 16,
   "metadata": {
    "collapsed": true,
    "jupyter": {
     "outputs_hidden": true
    },
    "tags": []
   },
   "outputs": [
    {
     "name": "stderr",
     "output_type": "stream",
     "text": [
      "INFO:sagemaker:Creating training-job with name: image-classification-2023-09-12-12-19-38-939\n"
     ]
    },
    {
     "name": "stdout",
     "output_type": "stream",
     "text": [
      "2023-09-12 12:19:39 Starting - Starting the training job...\n",
      "2023-09-12 12:20:04 Starting - Preparing the instances for training.........\n",
      "2023-09-12 12:21:17 Downloading - Downloading input data...\n",
      "2023-09-12 12:21:47 Training - Downloading the training image............\n",
      "2023-09-12 12:24:03 Training - Training image download completed. Training in progress.....\u001b[34mDocker entrypoint called with argument(s): train\u001b[0m\n",
      "\u001b[34mRunning default environment configuration script\u001b[0m\n",
      "\u001b[34mNvidia gpu devices, drivers and cuda toolkit versions (only available on hosts with GPU):\u001b[0m\n",
      "\u001b[34mTue Sep 12 12:24:33 2023       \u001b[0m\n",
      "\u001b[34m+---------------------------------------------------------------------------------------+\u001b[0m\n",
      "\u001b[34m| NVIDIA-SMI 535.54.03              Driver Version: 535.54.03    CUDA Version: 12.2     |\u001b[0m\n",
      "\u001b[34m|-----------------------------------------+----------------------+----------------------+\u001b[0m\n",
      "\u001b[34m| GPU  Name                 Persistence-M | Bus-Id        Disp.A | Volatile Uncorr. ECC |\u001b[0m\n",
      "\u001b[34m| Fan  Temp   Perf          Pwr:Usage/Cap |         Memory-Usage | GPU-Util  Compute M. |\u001b[0m\n",
      "\u001b[34m|                                         |                      |               MIG M. |\u001b[0m\n",
      "\u001b[34m|=========================================+======================+======================|\u001b[0m\n",
      "\u001b[34m|   0  Tesla V100-SXM2-16GB           On  | 00000000:00:1E.0 Off |                    0 |\u001b[0m\n",
      "\u001b[34m| N/A   33C    P0              25W / 300W |      0MiB / 16384MiB |      0%      Default |\u001b[0m\n",
      "\u001b[34m|                                         |                      |                  N/A |\u001b[0m\n",
      "\u001b[34m+-----------------------------------------+----------------------+----------------------+\n",
      "                                                                                         \u001b[0m\n",
      "\u001b[34m+---------------------------------------------------------------------------------------+\u001b[0m\n",
      "\u001b[34m| Processes:                                                                            |\u001b[0m\n",
      "\u001b[34m|  GPU   GI   CI        PID   Type   Process name                            GPU Memory |\u001b[0m\n",
      "\u001b[34m|        ID   ID                                                             Usage      |\u001b[0m\n",
      "\u001b[34m|=======================================================================================|\u001b[0m\n",
      "\u001b[34m|  No running processes found                                                           |\u001b[0m\n",
      "\u001b[34m+---------------------------------------------------------------------------------------+\u001b[0m\n",
      "\u001b[34mChecking for nvidia driver and cuda compatibility.\u001b[0m\n",
      "\u001b[34mCUDA Compatibility driver provided.\u001b[0m\n",
      "\u001b[34mProceeding with compatibility check between driver, cuda-toolkit and cuda-compat.\u001b[0m\n",
      "\u001b[34mDetected cuda-toolkit version: 11.1.\u001b[0m\n",
      "\u001b[34mDetected cuda-compat version: 455.32.00.\u001b[0m\n",
      "\u001b[34mDetected Nvidia driver version: 535.54.03.\u001b[0m\n",
      "\u001b[34mNvidia driver compatible with cuda-toolkit. Disabling cuda-compat.\u001b[0m\n",
      "\u001b[34m[09/12/2023 12:24:37 INFO 140480978728768] Reading default configuration from /opt/amazon/lib/python3.7/site-packages/image_classification/default-input.json: {'use_pretrained_model': 0, 'num_layers': 152, 'epochs': 30, 'learning_rate': 0.1, 'lr_scheduler_factor': 0.1, 'optimizer': 'sgd', 'momentum': 0, 'weight_decay': 0.0001, 'beta_1': 0.9, 'beta_2': 0.999, 'eps': 1e-08, 'gamma': 0.9, 'mini_batch_size': 32, 'image_shape': '3,224,224', 'precision_dtype': 'float32'}\u001b[0m\n",
      "\u001b[34m[09/12/2023 12:24:37 INFO 140480978728768] Merging with provided configuration from /opt/ml/input/config/hyperparameters.json: {'image_shape': '3,32,32', 'num_classes': '2', 'num_training_samples': '1000'}\u001b[0m\n",
      "\u001b[34m[09/12/2023 12:24:37 INFO 140480978728768] Final configuration: {'use_pretrained_model': 0, 'num_layers': 152, 'epochs': 30, 'learning_rate': 0.1, 'lr_scheduler_factor': 0.1, 'optimizer': 'sgd', 'momentum': 0, 'weight_decay': 0.0001, 'beta_1': 0.9, 'beta_2': 0.999, 'eps': 1e-08, 'gamma': 0.9, 'mini_batch_size': 32, 'image_shape': '3,32,32', 'precision_dtype': 'float32', 'num_classes': '2', 'num_training_samples': '1000'}\u001b[0m\n",
      "\u001b[34m[09/12/2023 12:24:37 INFO 140480978728768] Searching for .lst files in /opt/ml/input/data/train_lst.\u001b[0m\n",
      "\u001b[34m[09/12/2023 12:24:37 INFO 140480978728768] Creating record files for train.lst\u001b[0m\n",
      "\u001b[34m[09/12/2023 12:24:37 INFO 140480978728768] Done creating record files...\u001b[0m\n",
      "\u001b[34m[09/12/2023 12:24:37 INFO 140480978728768] Searching for .lst files in /opt/ml/input/data/validation_lst.\u001b[0m\n",
      "\u001b[34m[09/12/2023 12:24:37 INFO 140480978728768] Creating record files for test.lst\u001b[0m\n",
      "\u001b[34m[09/12/2023 12:24:37 INFO 140480978728768] Done creating record files...\u001b[0m\n",
      "\u001b[34m[09/12/2023 12:24:37 INFO 140480978728768] use_pretrained_model: 0\u001b[0m\n",
      "\u001b[34m[09/12/2023 12:24:37 INFO 140480978728768] multi_label: 0\u001b[0m\n",
      "\u001b[34m[09/12/2023 12:24:37 INFO 140480978728768] Performing random weight initialization\u001b[0m\n",
      "\u001b[34m[09/12/2023 12:24:37 INFO 140480978728768] ---- Parameters ----\u001b[0m\n",
      "\u001b[34m[09/12/2023 12:24:37 INFO 140480978728768] num_layers: 152\u001b[0m\n",
      "\u001b[34m[09/12/2023 12:24:37 INFO 140480978728768] data type: <class 'numpy.float32'>\u001b[0m\n",
      "\u001b[34m[09/12/2023 12:24:37 INFO 140480978728768] epochs: 30\u001b[0m\n",
      "\u001b[34m[09/12/2023 12:24:37 INFO 140480978728768] optimizer: sgd\u001b[0m\n",
      "\u001b[34m[09/12/2023 12:24:37 INFO 140480978728768] momentum: 0.9\u001b[0m\n",
      "\u001b[34m[09/12/2023 12:24:37 INFO 140480978728768] weight_decay: 0.0001\u001b[0m\n",
      "\u001b[34m[09/12/2023 12:24:37 INFO 140480978728768] learning_rate: 0.1\u001b[0m\n",
      "\u001b[34m[09/12/2023 12:24:37 INFO 140480978728768] num_training_samples: 1000\u001b[0m\n",
      "\u001b[34m[09/12/2023 12:24:37 INFO 140480978728768] mini_batch_size: 32\u001b[0m\n",
      "\u001b[34m[09/12/2023 12:24:37 INFO 140480978728768] image_shape: 3,32,32\u001b[0m\n",
      "\u001b[34m[09/12/2023 12:24:37 INFO 140480978728768] num_classes: 2\u001b[0m\n",
      "\u001b[34m[09/12/2023 12:24:37 INFO 140480978728768] augmentation_type: None\u001b[0m\n",
      "\u001b[34m[09/12/2023 12:24:37 INFO 140480978728768] kv_store: device\u001b[0m\n",
      "\u001b[34m[09/12/2023 12:24:37 INFO 140480978728768] checkpoint_frequency not set, will store the best model\u001b[0m\n",
      "\u001b[34m[09/12/2023 12:24:37 INFO 140480978728768] --------------------\u001b[0m\n",
      "\u001b[34m[09/12/2023 12:24:37 INFO 140480978728768] Setting number of threads: 7\u001b[0m\n",
      "\u001b[34m[12:24:41] /opt/brazil-pkg-cache/packages/AIAlgorithmsMXNet/AIAlgorithmsMXNet-1.4.x_ecl_Cuda_11.1.x.230.0/AL2_x86_64/generic-flavor/src/src/operator/nn/./cudnn/./cudnn_algoreg-inl.h:97: Running performance tests to find the best convolution algorithm, this can take a while... (setting env variable MXNET_CUDNN_AUTOTUNE_DEFAULT to 0 to disable)\u001b[0m\n",
      "\u001b[34m[09/12/2023 12:24:46 INFO 140480978728768] Epoch[0] Batch [20]#011Speed: 121.796 samples/sec#011accuracy=0.538690\u001b[0m\n",
      "\u001b[34m[09/12/2023 12:24:48 INFO 140480978728768] Epoch[0] Train-accuracy=0.526210\u001b[0m\n",
      "\u001b[34m[09/12/2023 12:24:48 INFO 140480978728768] Epoch[0] Time cost=6.872\u001b[0m\n",
      "\u001b[34m[09/12/2023 12:24:48 INFO 140480978728768] Epoch[0] Validation-accuracy=0.505208\u001b[0m\n",
      "\u001b[34m[09/12/2023 12:24:49 INFO 140480978728768] Storing the best model with validation accuracy: 0.505208\u001b[0m\n",
      "\u001b[34m[09/12/2023 12:24:49 INFO 140480978728768] Saved checkpoint to \"/opt/ml/model/image-classification-0001.params\"\u001b[0m\n",
      "\u001b[34m[09/12/2023 12:24:52 INFO 140480978728768] Epoch[1] Batch [20]#011Speed: 186.246 samples/sec#011accuracy=0.617560\u001b[0m\n",
      "\u001b[34m[09/12/2023 12:24:54 INFO 140480978728768] Epoch[1] Train-accuracy=0.611895\u001b[0m\n",
      "\u001b[34m[09/12/2023 12:24:54 INFO 140480978728768] Epoch[1] Time cost=5.065\u001b[0m\n",
      "\u001b[34m[09/12/2023 12:24:55 INFO 140480978728768] Epoch[1] Validation-accuracy=0.645833\u001b[0m\n",
      "\u001b[34m[09/12/2023 12:24:55 INFO 140480978728768] Storing the best model with validation accuracy: 0.645833\u001b[0m\n",
      "\u001b[34m[09/12/2023 12:24:55 INFO 140480978728768] Saved checkpoint to \"/opt/ml/model/image-classification-0002.params\"\u001b[0m\n",
      "\u001b[34m[09/12/2023 12:24:59 INFO 140480978728768] Epoch[2] Batch [20]#011Speed: 191.228 samples/sec#011accuracy=0.589286\u001b[0m\n",
      "\u001b[34m[09/12/2023 12:25:00 INFO 140480978728768] Epoch[2] Train-accuracy=0.608871\u001b[0m\n",
      "\u001b[34m[09/12/2023 12:25:00 INFO 140480978728768] Epoch[2] Time cost=4.953\u001b[0m\n",
      "\u001b[34m[09/12/2023 12:25:01 INFO 140480978728768] Epoch[2] Validation-accuracy=0.776042\u001b[0m\n",
      "\u001b[34m[09/12/2023 12:25:01 INFO 140480978728768] Storing the best model with validation accuracy: 0.776042\u001b[0m\n",
      "\u001b[34m[09/12/2023 12:25:01 INFO 140480978728768] Saved checkpoint to \"/opt/ml/model/image-classification-0003.params\"\u001b[0m\n",
      "\u001b[34m[09/12/2023 12:25:05 INFO 140480978728768] Epoch[3] Batch [20]#011Speed: 189.433 samples/sec#011accuracy=0.721726\u001b[0m\n",
      "\u001b[34m[09/12/2023 12:25:06 INFO 140480978728768] Epoch[3] Train-accuracy=0.744960\u001b[0m\n",
      "\u001b[34m[09/12/2023 12:25:06 INFO 140480978728768] Epoch[3] Time cost=4.988\u001b[0m\n",
      "\u001b[34m[09/12/2023 12:25:07 INFO 140480978728768] Epoch[3] Validation-accuracy=0.834821\u001b[0m\n",
      "\u001b[34m[09/12/2023 12:25:07 INFO 140480978728768] Storing the best model with validation accuracy: 0.834821\u001b[0m\n",
      "\u001b[34m[09/12/2023 12:25:08 INFO 140480978728768] Saved checkpoint to \"/opt/ml/model/image-classification-0004.params\"\u001b[0m\n",
      "\u001b[34m[09/12/2023 12:25:11 INFO 140480978728768] Epoch[4] Batch [20]#011Speed: 190.627 samples/sec#011accuracy=0.766369\u001b[0m\n",
      "\u001b[34m[09/12/2023 12:25:13 INFO 140480978728768] Epoch[4] Train-accuracy=0.772177\u001b[0m\n",
      "\u001b[34m[09/12/2023 12:25:13 INFO 140480978728768] Epoch[4] Time cost=4.993\u001b[0m\n",
      "\u001b[34m[09/12/2023 12:25:13 INFO 140480978728768] Epoch[4] Validation-accuracy=0.822917\u001b[0m\n",
      "\u001b[34m[09/12/2023 12:25:17 INFO 140480978728768] Epoch[5] Batch [20]#011Speed: 193.119 samples/sec#011accuracy=0.781250\u001b[0m\n",
      "\u001b[34m[09/12/2023 12:25:18 INFO 140480978728768] Epoch[5] Train-accuracy=0.768145\u001b[0m\n",
      "\u001b[34m[09/12/2023 12:25:18 INFO 140480978728768] Epoch[5] Time cost=4.951\u001b[0m\n",
      "\u001b[34m[09/12/2023 12:25:19 INFO 140480978728768] Epoch[5] Validation-accuracy=0.812500\u001b[0m\n",
      "\u001b[34m[09/12/2023 12:25:23 INFO 140480978728768] Epoch[6] Batch [20]#011Speed: 192.200 samples/sec#011accuracy=0.772321\u001b[0m\n",
      "\u001b[34m[09/12/2023 12:25:24 INFO 140480978728768] Epoch[6] Train-accuracy=0.779234\u001b[0m\n",
      "\u001b[34m[09/12/2023 12:25:24 INFO 140480978728768] Epoch[6] Time cost=4.959\u001b[0m\n",
      "\u001b[34m[09/12/2023 12:25:25 INFO 140480978728768] Epoch[6] Validation-accuracy=0.807292\u001b[0m\n",
      "\u001b[34m[09/12/2023 12:25:29 INFO 140480978728768] Epoch[7] Batch [20]#011Speed: 191.899 samples/sec#011accuracy=0.791667\u001b[0m\n",
      "\u001b[34m[09/12/2023 12:25:30 INFO 140480978728768] Epoch[7] Train-accuracy=0.779234\u001b[0m\n",
      "\u001b[34m[09/12/2023 12:25:30 INFO 140480978728768] Epoch[7] Time cost=4.968\u001b[0m\n",
      "\u001b[34m[09/12/2023 12:25:31 INFO 140480978728768] Epoch[7] Validation-accuracy=0.816964\u001b[0m\n",
      "\u001b[34m[09/12/2023 12:25:35 INFO 140480978728768] Epoch[8] Batch [20]#011Speed: 191.169 samples/sec#011accuracy=0.788690\u001b[0m\n",
      "\u001b[34m[09/12/2023 12:25:36 INFO 140480978728768] Epoch[8] Train-accuracy=0.791331\u001b[0m\n",
      "\u001b[34m[09/12/2023 12:25:36 INFO 140480978728768] Epoch[8] Time cost=4.980\u001b[0m\n",
      "\u001b[34m[09/12/2023 12:25:37 INFO 140480978728768] Epoch[8] Validation-accuracy=0.843750\u001b[0m\n",
      "\u001b[34m[09/12/2023 12:25:37 INFO 140480978728768] Storing the best model with validation accuracy: 0.843750\u001b[0m\n",
      "\u001b[34m[09/12/2023 12:25:37 INFO 140480978728768] Saved checkpoint to \"/opt/ml/model/image-classification-0009.params\"\u001b[0m\n",
      "\u001b[34m[09/12/2023 12:25:41 INFO 140480978728768] Epoch[9] Batch [20]#011Speed: 191.082 samples/sec#011accuracy=0.785714\u001b[0m\n",
      "\u001b[34m[09/12/2023 12:25:42 INFO 140480978728768] Epoch[9] Train-accuracy=0.792339\u001b[0m\n",
      "\u001b[34m[09/12/2023 12:25:42 INFO 140480978728768] Epoch[9] Time cost=4.982\u001b[0m\n",
      "\u001b[34m[09/12/2023 12:25:43 INFO 140480978728768] Epoch[9] Validation-accuracy=0.755208\u001b[0m\n",
      "\u001b[34m[09/12/2023 12:25:47 INFO 140480978728768] Epoch[10] Batch [20]#011Speed: 191.221 samples/sec#011accuracy=0.799107\u001b[0m\n",
      "\u001b[34m[09/12/2023 12:25:48 INFO 140480978728768] Epoch[10] Train-accuracy=0.800403\u001b[0m\n",
      "\u001b[34m[09/12/2023 12:25:48 INFO 140480978728768] Epoch[10] Time cost=5.006\u001b[0m\n",
      "\u001b[34m[09/12/2023 12:25:49 INFO 140480978728768] Epoch[10] Validation-accuracy=0.828125\u001b[0m\n",
      "\u001b[34m[09/12/2023 12:25:53 INFO 140480978728768] Epoch[11] Batch [20]#011Speed: 192.967 samples/sec#011accuracy=0.816964\u001b[0m\n",
      "\u001b[34m[09/12/2023 12:25:54 INFO 140480978728768] Epoch[11] Train-accuracy=0.814516\u001b[0m\n",
      "\u001b[34m[09/12/2023 12:25:54 INFO 140480978728768] Epoch[11] Time cost=4.950\u001b[0m\n",
      "\u001b[34m[09/12/2023 12:25:55 INFO 140480978728768] Epoch[11] Validation-accuracy=0.866071\u001b[0m\n",
      "\u001b[34m[09/12/2023 12:25:55 INFO 140480978728768] Storing the best model with validation accuracy: 0.866071\u001b[0m\n",
      "\u001b[34m[09/12/2023 12:25:56 INFO 140480978728768] Saved checkpoint to \"/opt/ml/model/image-classification-0012.params\"\u001b[0m\n",
      "\u001b[34m[09/12/2023 12:25:59 INFO 140480978728768] Epoch[12] Batch [20]#011Speed: 192.674 samples/sec#011accuracy=0.827381\u001b[0m\n",
      "\u001b[34m[09/12/2023 12:26:00 INFO 140480978728768] Epoch[12] Train-accuracy=0.831653\u001b[0m\n",
      "\u001b[34m[09/12/2023 12:26:00 INFO 140480978728768] Epoch[12] Time cost=4.949\u001b[0m\n",
      "\u001b[34m[09/12/2023 12:26:01 INFO 140480978728768] Epoch[12] Validation-accuracy=0.848958\u001b[0m\n",
      "\u001b[34m[09/12/2023 12:26:05 INFO 140480978728768] Epoch[13] Batch [20]#011Speed: 188.811 samples/sec#011accuracy=0.808036\u001b[0m\n",
      "\u001b[34m[09/12/2023 12:26:06 INFO 140480978728768] Epoch[13] Train-accuracy=0.819556\u001b[0m\n",
      "\u001b[34m[09/12/2023 12:26:06 INFO 140480978728768] Epoch[13] Time cost=5.002\u001b[0m\n",
      "\u001b[34m[09/12/2023 12:26:07 INFO 140480978728768] Epoch[13] Validation-accuracy=0.833333\u001b[0m\n",
      "\u001b[34m[09/12/2023 12:26:11 INFO 140480978728768] Epoch[14] Batch [20]#011Speed: 192.509 samples/sec#011accuracy=0.840774\u001b[0m\n",
      "\u001b[34m[09/12/2023 12:26:12 INFO 140480978728768] Epoch[14] Train-accuracy=0.852823\u001b[0m\n",
      "\u001b[34m[09/12/2023 12:26:12 INFO 140480978728768] Epoch[14] Time cost=4.948\u001b[0m\n",
      "\u001b[34m[09/12/2023 12:26:13 INFO 140480978728768] Epoch[14] Validation-accuracy=0.828125\u001b[0m\n",
      "\u001b[34m[09/12/2023 12:26:17 INFO 140480978728768] Epoch[15] Batch [20]#011Speed: 192.834 samples/sec#011accuracy=0.873512\u001b[0m\n",
      "\u001b[34m[09/12/2023 12:26:18 INFO 140480978728768] Epoch[15] Train-accuracy=0.866935\u001b[0m\n",
      "\u001b[34m[09/12/2023 12:26:18 INFO 140480978728768] Epoch[15] Time cost=4.951\u001b[0m\n",
      "\u001b[34m[09/12/2023 12:26:19 INFO 140480978728768] Epoch[15] Validation-accuracy=0.794643\u001b[0m\n",
      "\u001b[34m[09/12/2023 12:26:23 INFO 140480978728768] Epoch[16] Batch [20]#011Speed: 191.500 samples/sec#011accuracy=0.880952\u001b[0m\n",
      "\u001b[34m[09/12/2023 12:26:24 INFO 140480978728768] Epoch[16] Train-accuracy=0.872984\u001b[0m\n",
      "\u001b[34m[09/12/2023 12:26:24 INFO 140480978728768] Epoch[16] Time cost=4.958\u001b[0m\n",
      "\u001b[34m[09/12/2023 12:26:25 INFO 140480978728768] Epoch[16] Validation-accuracy=0.822917\u001b[0m\n",
      "\u001b[34m[09/12/2023 12:26:28 INFO 140480978728768] Epoch[17] Batch [20]#011Speed: 193.631 samples/sec#011accuracy=0.883929\u001b[0m\n",
      "\u001b[34m[09/12/2023 12:26:30 INFO 140480978728768] Epoch[17] Train-accuracy=0.872984\u001b[0m\n",
      "\u001b[34m[09/12/2023 12:26:30 INFO 140480978728768] Epoch[17] Time cost=4.955\u001b[0m\n",
      "\u001b[34m[09/12/2023 12:26:31 INFO 140480978728768] Epoch[17] Validation-accuracy=0.828125\u001b[0m\n",
      "\u001b[34m[09/12/2023 12:26:34 INFO 140480978728768] Epoch[18] Batch [20]#011Speed: 194.206 samples/sec#011accuracy=0.845238\u001b[0m\n",
      "\u001b[34m[09/12/2023 12:26:36 INFO 140480978728768] Epoch[18] Train-accuracy=0.863911\u001b[0m\n",
      "\u001b[34m[09/12/2023 12:26:36 INFO 140480978728768] Epoch[18] Time cost=4.915\u001b[0m\n",
      "\u001b[34m[09/12/2023 12:26:36 INFO 140480978728768] Epoch[18] Validation-accuracy=0.828125\u001b[0m\n",
      "\u001b[34m[09/12/2023 12:26:40 INFO 140480978728768] Epoch[19] Batch [20]#011Speed: 193.409 samples/sec#011accuracy=0.915179\u001b[0m\n",
      "\u001b[34m[09/12/2023 12:26:42 INFO 140480978728768] Epoch[19] Train-accuracy=0.903226\u001b[0m\n",
      "\u001b[34m[09/12/2023 12:26:42 INFO 140480978728768] Epoch[19] Time cost=4.939\u001b[0m\n",
      "\u001b[34m[09/12/2023 12:26:42 INFO 140480978728768] Epoch[19] Validation-accuracy=0.781250\u001b[0m\n",
      "\u001b[34m[09/12/2023 12:26:46 INFO 140480978728768] Epoch[20] Batch [20]#011Speed: 193.568 samples/sec#011accuracy=0.916667\u001b[0m\n",
      "\u001b[34m[09/12/2023 12:26:48 INFO 140480978728768] Epoch[20] Train-accuracy=0.914315\u001b[0m\n",
      "\u001b[34m[09/12/2023 12:26:48 INFO 140480978728768] Epoch[20] Time cost=4.945\u001b[0m\n",
      "\u001b[34m[09/12/2023 12:26:48 INFO 140480978728768] Epoch[20] Validation-accuracy=0.854167\u001b[0m\n",
      "\u001b[34m[09/12/2023 12:26:52 INFO 140480978728768] Epoch[21] Batch [20]#011Speed: 192.781 samples/sec#011accuracy=0.930060\u001b[0m\n",
      "\u001b[34m[09/12/2023 12:26:54 INFO 140480978728768] Epoch[21] Train-accuracy=0.919355\u001b[0m\n",
      "\u001b[34m[09/12/2023 12:26:54 INFO 140480978728768] Epoch[21] Time cost=4.958\u001b[0m\n",
      "\u001b[34m[09/12/2023 12:26:54 INFO 140480978728768] Epoch[21] Validation-accuracy=0.796875\u001b[0m\n",
      "\u001b[34m[09/12/2023 12:26:58 INFO 140480978728768] Epoch[22] Batch [20]#011Speed: 191.285 samples/sec#011accuracy=0.928571\u001b[0m\n",
      "\u001b[34m[09/12/2023 12:27:00 INFO 140480978728768] Epoch[22] Train-accuracy=0.921371\u001b[0m\n",
      "\u001b[34m[09/12/2023 12:27:00 INFO 140480978728768] Epoch[22] Time cost=4.963\u001b[0m\n",
      "\u001b[34m[09/12/2023 12:27:00 INFO 140480978728768] Epoch[22] Validation-accuracy=0.869792\u001b[0m\n",
      "\u001b[34m[09/12/2023 12:27:00 INFO 140480978728768] Storing the best model with validation accuracy: 0.869792\u001b[0m\n",
      "\u001b[34m[09/12/2023 12:27:01 INFO 140480978728768] Saved checkpoint to \"/opt/ml/model/image-classification-0023.params\"\u001b[0m\n",
      "\u001b[34m[09/12/2023 12:27:04 INFO 140480978728768] Epoch[23] Batch [20]#011Speed: 186.911 samples/sec#011accuracy=0.944940\u001b[0m\n",
      "\u001b[34m[09/12/2023 12:27:06 INFO 140480978728768] Epoch[23] Train-accuracy=0.940524\u001b[0m\n",
      "\u001b[34m[09/12/2023 12:27:06 INFO 140480978728768] Epoch[23] Time cost=5.039\u001b[0m\n",
      "\u001b[34m[09/12/2023 12:27:06 INFO 140480978728768] Epoch[23] Validation-accuracy=0.790179\u001b[0m\n",
      "\u001b[34m[09/12/2023 12:27:10 INFO 140480978728768] Epoch[24] Batch [20]#011Speed: 192.706 samples/sec#011accuracy=0.922619\u001b[0m\n",
      "\u001b[34m[09/12/2023 12:27:12 INFO 140480978728768] Epoch[24] Train-accuracy=0.926411\u001b[0m\n",
      "\u001b[34m[09/12/2023 12:27:12 INFO 140480978728768] Epoch[24] Time cost=4.955\u001b[0m\n",
      "\u001b[34m[09/12/2023 12:27:12 INFO 140480978728768] Epoch[24] Validation-accuracy=0.838542\u001b[0m\n",
      "\u001b[34m[09/12/2023 12:27:16 INFO 140480978728768] Epoch[25] Batch [20]#011Speed: 192.073 samples/sec#011accuracy=0.922619\u001b[0m\n",
      "\u001b[34m[09/12/2023 12:27:18 INFO 140480978728768] Epoch[25] Train-accuracy=0.922379\u001b[0m\n",
      "\u001b[34m[09/12/2023 12:27:18 INFO 140480978728768] Epoch[25] Time cost=4.948\u001b[0m\n",
      "\u001b[34m[09/12/2023 12:27:18 INFO 140480978728768] Epoch[25] Validation-accuracy=0.776042\u001b[0m\n",
      "\u001b[34m[09/12/2023 12:27:22 INFO 140480978728768] Epoch[26] Batch [20]#011Speed: 193.862 samples/sec#011accuracy=0.918155\u001b[0m\n",
      "\u001b[34m[09/12/2023 12:27:24 INFO 140480978728768] Epoch[26] Train-accuracy=0.929435\u001b[0m\n",
      "\u001b[34m[09/12/2023 12:27:24 INFO 140480978728768] Epoch[26] Time cost=4.916\u001b[0m\n",
      "\u001b[34m[09/12/2023 12:27:24 INFO 140480978728768] Epoch[26] Validation-accuracy=0.828125\u001b[0m\n",
      "\u001b[34m[09/12/2023 12:27:28 INFO 140480978728768] Epoch[27] Batch [20]#011Speed: 192.767 samples/sec#011accuracy=0.956845\u001b[0m\n",
      "\u001b[34m[09/12/2023 12:27:29 INFO 140480978728768] Epoch[27] Train-accuracy=0.953629\u001b[0m\n",
      "\u001b[34m[09/12/2023 12:27:29 INFO 140480978728768] Epoch[27] Time cost=4.941\u001b[0m\n",
      "\u001b[34m[09/12/2023 12:27:30 INFO 140480978728768] Epoch[27] Validation-accuracy=0.812500\u001b[0m\n",
      "\n",
      "2023-09-12 12:27:44 Uploading - Uploading generated training model\u001b[34m[09/12/2023 12:27:34 INFO 140480978728768] Epoch[28] Batch [20]#011Speed: 191.315 samples/sec#011accuracy=0.973214\u001b[0m\n",
      "\u001b[34m[09/12/2023 12:27:35 INFO 140480978728768] Epoch[28] Train-accuracy=0.968750\u001b[0m\n",
      "\u001b[34m[09/12/2023 12:27:35 INFO 140480978728768] Epoch[28] Time cost=4.971\u001b[0m\n",
      "\u001b[34m[09/12/2023 12:27:36 INFO 140480978728768] Epoch[28] Validation-accuracy=0.838542\u001b[0m\n",
      "\u001b[34m[09/12/2023 12:27:40 INFO 140480978728768] Epoch[29] Batch [20]#011Speed: 195.204 samples/sec#011accuracy=0.962798\u001b[0m\n",
      "\u001b[34m[09/12/2023 12:27:41 INFO 140480978728768] Epoch[29] Train-accuracy=0.965726\u001b[0m\n",
      "\u001b[34m[09/12/2023 12:27:41 INFO 140480978728768] Epoch[29] Time cost=4.897\u001b[0m\n",
      "\u001b[34m[09/12/2023 12:27:42 INFO 140480978728768] Epoch[29] Validation-accuracy=0.838542\u001b[0m\n",
      "\n",
      "2023-09-12 12:28:15 Completed - Training job completed\n",
      "Training seconds: 418\n",
      "Billable seconds: 418\n"
     ]
    }
   ],
   "source": [
    "## TODO: train your model\n",
    "img_classifier_model.fit(inputs=model_inputs)"
   ]
  },
  {
   "cell_type": "markdown",
   "metadata": {},
   "source": [
    "If all goes well, you'll end up with a model topping out above `.8` validation accuracy. With only 1000 training samples in the CIFAR dataset, that's pretty good. We could definitely pursue data augmentation & gathering more samples to help us improve further, but for now let's proceed to deploy our model.\n",
    "\n",
    "### Getting ready to deploy\n",
    "\n",
    "To begin with, let's configure Model Monitor to track our deployment. We'll define a `DataCaptureConfig` below:"
   ]
  },
  {
   "cell_type": "code",
   "execution_count": 17,
   "metadata": {},
   "outputs": [],
   "source": [
    "from sagemaker.model_monitor import DataCaptureConfig\n",
    "\n",
    "data_capture_config = DataCaptureConfig(\n",
    "    ## TODO: Set config options\n",
    "    enable_capture=True,\n",
    "    sampling_percentage=100,\n",
    "    destination_s3_uri=f\"s3://{bucket}/data_capture\"\n",
    ")"
   ]
  },
  {
   "cell_type": "markdown",
   "metadata": {},
   "source": [
    "Note the `destination_s3_uri` parameter: At the end of the project, we can explore the `data_capture` directory in S3 to find crucial data about the inputs and outputs Model Monitor has observed on our model endpoint over time.\n",
    "\n",
    "With that done, deploy your model on a single `ml.m5.xlarge` instance with the data capture config attached:"
   ]
  },
  {
   "cell_type": "code",
   "execution_count": 18,
   "metadata": {},
   "outputs": [
    {
     "name": "stderr",
     "output_type": "stream",
     "text": [
      "INFO:sagemaker:Creating model with name: image-classification-2023-09-12-12-40-49-336\n",
      "INFO:sagemaker:Creating endpoint-config with name image-classification-2023-09-12-12-40-49-336\n",
      "INFO:sagemaker:Creating endpoint with name image-classification-2023-09-12-12-40-49-336\n"
     ]
    },
    {
     "name": "stdout",
     "output_type": "stream",
     "text": [
      "--------!image-classification-2023-09-12-12-40-49-336\n"
     ]
    }
   ],
   "source": [
    "deployment = img_classifier_model.deploy(\n",
    "    ## TODO: fill in deployment options\n",
    "    initial_instance_count=1, instance_type='ml.m5.xlarge',\n",
    "    data_capture_config=data_capture_config\n",
    "    )\n",
    "\n",
    "endpoint = deployment.endpoint_name\n",
    "print(endpoint)"
   ]
  },
  {
   "cell_type": "markdown",
   "metadata": {},
   "source": [
    "Note the endpoint name for later as well.\n",
    "\n",
    "Next, instantiate a Predictor:"
   ]
  },
  {
   "cell_type": "code",
   "execution_count": 110,
   "metadata": {},
   "outputs": [],
   "source": [
    "predictor = sagemaker.predictor.Predictor(endpoint)"
   ]
  },
  {
   "cell_type": "markdown",
   "metadata": {},
   "source": [
    "In the code snippet below we are going to prepare one of your saved images for prediction. Use the predictor to process the `payload`."
   ]
  },
  {
   "cell_type": "code",
   "execution_count": 111,
   "metadata": {},
   "outputs": [],
   "source": [
    "from sagemaker.serializers import IdentitySerializer\n",
    "import base64\n",
    "\n",
    "predictor.serializer = IdentitySerializer(\"image/png\")\n",
    "with open(\"./test/bicycle_s_001789.png\", \"rb\") as f:\n",
    "    payload = f.read()\n",
    "\n",
    "    \n",
    "inference = predictor.predict(payload)"
   ]
  },
  {
   "cell_type": "markdown",
   "metadata": {},
   "source": [
    "Your `inference` object is an array of two values, the predicted probability value for each of your classes (bicycle and motorcycle respectively.) So, for example, a value of `b'[0.91, 0.09]'` indicates the probability of being a bike is 91% and being a motorcycle is 9%."
   ]
  },
  {
   "cell_type": "code",
   "execution_count": 112,
   "metadata": {},
   "outputs": [
    {
     "name": "stdout",
     "output_type": "stream",
     "text": [
      "b'[0.999854564666748, 0.00014540668053086847]'\n"
     ]
    }
   ],
   "source": [
    "print(inference)"
   ]
  },
  {
   "cell_type": "markdown",
   "metadata": {
    "jp-MarkdownHeadingCollapsed": true,
    "tags": []
   },
   "source": [
    "### Draft Lambdas and Step Function Workflow\n",
    "\n",
    "Your operations team uses Step Functions to orchestrate serverless workflows. One of the nice things about Step Functions is that [workflows can call other workflows](https://docs.aws.amazon.com/step-functions/latest/dg/connect-stepfunctions.html), so the team can easily plug your workflow into the broader production architecture for Scones Unlimited.\n",
    "\n",
    "In this next stage you're going to write and deploy three Lambda functions, and then use the Step Functions visual editor to chain them together! Our functions are going to work with a simple data object:\n",
    "\n",
    "```python\n",
    "{\n",
    "    \"inferences\": [], # Output of predictor.predict\n",
    "    \"s3_key\": \"\", # Source data S3 key\n",
    "    \"s3_bucket\": \"\", # Source data S3 bucket\n",
    "    \"image_data\": \"\"  # base64 encoded string containing the image data\n",
    "}\n",
    "```\n",
    "\n",
    "A good test object that you can use for Lambda tests and Step Function executions, throughout the next section, might look like this:\n",
    "\n",
    "```python\n",
    "{\n",
    "  \"image_data\": \"\",\n",
    "  \"s3_bucket\": MY_BUCKET_NAME, # Fill in with your bucket\n",
    "  \"s3_key\": \"test/bicycle_s_000513.png\"\n",
    "}\n",
    "```\n",
    "\n",
    "Using these fields, your functions can read and write the necessary data to execute your workflow. Let's start with the first function. Your first Lambda function will copy an object from S3, base64 encode it, and then return it to the step function as `image_data` in an event.\n",
    "\n",
    "Go to the Lambda dashboard and create a new Lambda function with a descriptive name like \"serializeImageData\" and select thr 'Python 3.8' runtime. Add the same permissions as the SageMaker role you created earlier. (Reminder: you do this in the Configuration tab under \"Permissions\"). Once you're ready, use the starter code below to craft your Lambda handler:\n",
    "\n",
    "```python\n",
    "import json\n",
    "import boto3\n",
    "import base64\n",
    "\n",
    "s3 = boto3.client('s3')\n",
    "\n",
    "def lambda_handler(event, context):\n",
    "    \"\"\"A function to serialize target data from S3\"\"\"\n",
    "    \n",
    "    # Get the s3 address from the Step Function event input\n",
    "    key = ## TODO: fill in\n",
    "    bucket = ## TODO: fill in\n",
    "    \n",
    "    # Download the data from s3 to /tmp/image.png\n",
    "    ## TODO: fill in\n",
    "    \n",
    "    # We read the data from a file\n",
    "    with open(\"/tmp/image.png\", \"rb\") as f:\n",
    "        image_data = base64.b64encode(f.read())\n",
    "\n",
    "    # Pass the data back to the Step Function\n",
    "    print(\"Event:\", event.keys())\n",
    "    return {\n",
    "        'statusCode': 200,\n",
    "        'body': {\n",
    "            \"image_data\": image_data,\n",
    "            \"s3_bucket\": bucket,\n",
    "            \"s3_key\": key,\n",
    "            \"inferences\": []\n",
    "        }\n",
    "    }\n",
    "```\n",
    "\n",
    "The next function is responsible for the classification part - we're going to take the image output from the previous function, decode it, and then pass inferences back to the the Step Function.\n",
    "\n",
    "Because this Lambda will have runtime dependencies (i.e. the SageMaker SDK) you'll need to package them in your function. *Key reading:* https://docs.aws.amazon.com/lambda/latest/dg/python-package-create.html#python-package-create-with-dependency\n",
    "\n",
    "Create a new Lambda function with the same rights and a descriptive name, then fill in the starter code below for your classifier Lambda.\n",
    "\n",
    "```python\n",
    "import json\n",
    "import sagemaker\n",
    "import base64\n",
    "from sagemaker.serializers import IdentitySerializer\n",
    "\n",
    "# Fill this in with the name of your deployed model\n",
    "ENDPOINT = ## TODO: fill in\n",
    "\n",
    "def lambda_handler(event, context):\n",
    "\n",
    "    # Decode the image data\n",
    "    image = base64.b64decode(## TODO: fill in)\n",
    "\n",
    "    # Instantiate a Predictor\n",
    "    predictor = ## TODO: fill in\n",
    "\n",
    "    # For this model the IdentitySerializer needs to be \"image/png\"\n",
    "    predictor.serializer = IdentitySerializer(\"image/png\")\n",
    "    \n",
    "    # Make a prediction:\n",
    "    inferences = ## TODO: fill in\n",
    "    \n",
    "    # We return the data back to the Step Function    \n",
    "    event[\"inferences\"] = inferences.decode('utf-8')\n",
    "    return {\n",
    "        'statusCode': 200,\n",
    "        'body': json.dumps(event)\n",
    "    }\n",
    "```\n",
    "\n",
    "Finally, we need to filter low-confidence inferences. Define a threshold between 1.00 and 0.000 for your model: what is reasonble for you? If the model predicts at `.70` for it's highest confidence label, do we want to pass that inference along to downstream systems? Make one last Lambda function and tee up the same permissions:\n",
    "\n",
    "```python\n",
    "import json\n",
    "\n",
    "\n",
    "THRESHOLD = .93\n",
    "\n",
    "\n",
    "def lambda_handler(event, context):\n",
    "    \n",
    "    # Grab the inferences from the event\n",
    "    inferences = ## TODO: fill in\n",
    "    \n",
    "    # Check if any values in our inferences are above THRESHOLD\n",
    "    meets_threshold = ## TODO: fill in\n",
    "    \n",
    "    # If our threshold is met, pass our data back out of the\n",
    "    # Step Function, else, end the Step Function with an error\n",
    "    if meets_threshold:\n",
    "        pass\n",
    "    else:\n",
    "        raise(\"THRESHOLD_CONFIDENCE_NOT_MET\")\n",
    "\n",
    "    return {\n",
    "        'statusCode': 200,\n",
    "        'body': json.dumps(event)\n",
    "    }\n",
    "```\n",
    "Once you have tested the lambda functions, save the code for each lambda function in a python script called 'lambda.py'.\n",
    "\n",
    "With your lambdas in place, you can use the Step Functions visual editor to construct a workflow that chains them together. In the Step Functions console you'll have the option to author a Standard step function *Visually*.\n",
    "\n",
    "When the visual editor opens, you'll have many options to add transitions in your workflow. We're going to keep it simple and have just one: to invoke Lambda functions. Add three of them chained together. For each one, you'll be able to select the Lambda functions you just created in the proper order, filter inputs and outputs, and give them descriptive names.\n",
    "\n",
    "Make sure that you:\n",
    "\n",
    "1. Are properly filtering the inputs and outputs of your invokations (e.g. `$.body`)\n",
    "2. Take care to remove the error handling from the last function - it's supposed to \"fail loudly\" for your operations colleagues!\n",
    "\n",
    "Take a screenshot of your working step function in action and export the step function as JSON for your submission package."
   ]
  },
  {
   "cell_type": "markdown",
   "metadata": {},
   "source": [
    "\n",
    "Great! Now you can use the files in `./test` as test files for our workflow. Depending on our threshold, our workflow should reliably pass predictions about images from `./test` on to downstream systems, while erroring out for inferences below our confidence threshold!\n",
    "\n",
    "### Testing and Evaluation\n",
    "\n",
    "Do several step function invokations using data from the `./test` folder. This process should give you confidence that the workflow both *succeeds* AND *fails* as expected. In addition, SageMaker Model Monitor will generate recordings of your data and inferences which we can visualize.\n",
    "\n",
    "Here's a function that can help you generate test inputs for your invokations:"
   ]
  },
  {
   "cell_type": "code",
   "execution_count": 58,
   "metadata": {},
   "outputs": [
    {
     "data": {
      "text/plain": [
       "'{\"image_data\": \"\", \"s3_bucket\": \"sagemaker-us-east-1-842592891764\", \"s3_key\": \"test/bicycle_s_000030.png\"}'"
      ]
     },
     "execution_count": 58,
     "metadata": {},
     "output_type": "execute_result"
    }
   ],
   "source": [
    "import random\n",
    "import boto3\n",
    "import json\n",
    "\n",
    "\n",
    "def generate_test_case():\n",
    "    # Setup s3 in boto3\n",
    "    s3 = boto3.resource('s3')\n",
    "    \n",
    "    # Randomly pick from sfn or test folders in our bucket\n",
    "    objects = s3.Bucket(bucket).objects.filter(Prefix=\"test/\")\n",
    "    \n",
    "    # Grab any random object key from that folder!\n",
    "    obj = random.choice([x.key for x in objects])\n",
    "    \n",
    "    return json.dumps({\n",
    "        \"image_data\": \"\",\n",
    "        \"s3_bucket\": bucket,\n",
    "        \"s3_key\": obj\n",
    "    })\n",
    "generate_test_case()"
   ]
  },
  {
   "cell_type": "markdown",
   "metadata": {},
   "source": [
    "In the Step Function dashboard for your new function, you can create new executions and copy in the generated test cases. Do several executions so that you can generate data you can evaluate and visualize.\n",
    "\n",
    "Once you've done several executions, let's visualize the record of our inferences. Pull in the JSONLines data from your inferences like so:"
   ]
  },
  {
   "cell_type": "code",
   "execution_count": 66,
   "metadata": {},
   "outputs": [],
   "source": [
    "from sagemaker.s3 import S3Downloader\n",
    "\n",
    "# In S3 your data will be saved to a datetime-aware path\n",
    "# Find a path related to a datetime you're interested in\n",
    "\n",
    "data_paths = [\n",
    "    \"s3://sagemaker-us-east-1-842592891764/data_capture/image-classification-2023-09-12-12-40-49-336/AllTraffic/2023/09/12/14/52-35-648-0802186a-8cff-4640-8198-b924e0e1d5c9.jsonl\",\n",
    "    \"s3://sagemaker-us-east-1-842592891764/data_capture/image-classification-2023-09-12-12-40-49-336/AllTraffic/2023/09/12/14/53-56-942-382d6b7f-d5ff-4d41-bd5e-a4d0b7dbff8f.jsonl\",\n",
    "    \"s3://sagemaker-us-east-1-842592891764/data_capture/image-classification-2023-09-12-12-40-49-336/AllTraffic/2023/09/12/14/55-57-302-a230b0c3-e70a-45be-8503-076ad6482bcd.jsonl\",\n",
    "    \"s3://sagemaker-us-east-1-842592891764/data_capture/image-classification-2023-09-12-12-40-49-336/AllTraffic/2023/09/12/14/57-17-040-22f1c858-899b-40c3-8813-e6dfda428618.jsonl\",\n",
    "    \"s3://sagemaker-us-east-1-842592891764/data_capture/image-classification-2023-09-12-12-40-49-336/AllTraffic/2023/09/12/14/58-22-588-2b07c750-6ce5-41eb-99d4-72e8dd348c49.jsonl\",\n",
    "]\n",
    "for data_path in data_paths:\n",
    "    S3Downloader.download(data_path, \"captured_data\")\n",
    "\n",
    "# Feel free to repeat this multiple times and pull in more data"
   ]
  },
  {
   "cell_type": "markdown",
   "metadata": {},
   "source": [
    "The data are in JSONLines format, where multiple valid JSON objects are stacked on top of eachother in a single `jsonl` file. We'll import an open-source library, `jsonlines` that was purpose built for parsing this format."
   ]
  },
  {
   "cell_type": "code",
   "execution_count": 62,
   "metadata": {},
   "outputs": [
    {
     "name": "stdout",
     "output_type": "stream",
     "text": [
      "Requirement already satisfied: jsonlines in /opt/conda/lib/python3.7/site-packages (3.1.0)\n",
      "Requirement already satisfied: attrs>=19.2.0 in /opt/conda/lib/python3.7/site-packages (from jsonlines) (23.1.0)\n",
      "Requirement already satisfied: typing-extensions in /opt/conda/lib/python3.7/site-packages (from jsonlines) (4.7.1)\n",
      "Requirement already satisfied: importlib-metadata in /opt/conda/lib/python3.7/site-packages (from attrs>=19.2.0->jsonlines) (6.7.0)\n",
      "Requirement already satisfied: zipp>=0.5 in /opt/conda/lib/python3.7/site-packages (from importlib-metadata->attrs>=19.2.0->jsonlines) (2.2.0)\n",
      "\u001b[33mDEPRECATION: pyodbc 4.0.0-unsupported has a non-standard version number. pip 23.3 will enforce this behaviour change. A possible replacement is to upgrade to a newer version of pyodbc or contact the author to suggest that they release a version with a conforming version number. Discussion can be found at https://github.com/pypa/pip/issues/12063\u001b[0m\u001b[33m\n",
      "\u001b[0m\u001b[33mWARNING: Running pip as the 'root' user can result in broken permissions and conflicting behaviour with the system package manager. It is recommended to use a virtual environment instead: https://pip.pypa.io/warnings/venv\u001b[0m\u001b[33m\n",
      "\u001b[0m"
     ]
    }
   ],
   "source": [
    "!pip install jsonlines\n",
    "import jsonlines"
   ]
  },
  {
   "cell_type": "markdown",
   "metadata": {},
   "source": [
    "Now we can extract the data from each of the source files:"
   ]
  },
  {
   "cell_type": "code",
   "execution_count": 67,
   "metadata": {},
   "outputs": [],
   "source": [
    "import os\n",
    "\n",
    "# List the file names we downloaded\n",
    "file_handles = os.listdir(\"./captured_data\")\n",
    "\n",
    "# Dump all the data into an array\n",
    "json_data = []\n",
    "for jsonl in file_handles:\n",
    "    with jsonlines.open(f\"./captured_data/{jsonl}\") as f:\n",
    "        json_data.append(f.read())"
   ]
  },
  {
   "cell_type": "markdown",
   "metadata": {},
   "source": [
    "The data should now be a list of dictionaries, with significant nesting. We'll give you an example of some code that grabs data out of the objects and visualizes it:"
   ]
  },
  {
   "cell_type": "code",
   "execution_count": 75,
   "metadata": {},
   "outputs": [
    {
     "data": {
      "text/plain": [
       "([0.9189274907112122, 0.08107244968414307], '2023-09-12T14:53:56Z')"
      ]
     },
     "execution_count": 75,
     "metadata": {},
     "output_type": "execute_result"
    }
   ],
   "source": [
    "# Define how we'll get our data\n",
    "def simple_getter(obj):\n",
    "    inferences = obj[\"captureData\"][\"endpointOutput\"][\"data\"]\n",
    "    timestamp = obj[\"eventMetadata\"][\"inferenceTime\"]\n",
    "    return json.loads(inferences), timestamp\n",
    "\n",
    "simple_getter(json_data[4])"
   ]
  },
  {
   "cell_type": "code",
   "execution_count": 79,
   "metadata": {},
   "outputs": [
    {
     "name": "stdout",
     "output_type": "stream",
     "text": [
      "{'captureData': {'endpointInput': {'observedContentType': 'image/png', 'mode': 'INPUT', 'data': 'iVBORw0KGgoAAAANSUhEUgAAACAAAAAgCAYAAABzenr0AAAABHNCSVQICAgIfAhkiAAAAAlwSFlzAAAPYQAAD2EBqD+naQAAC1BJREFUWIUFwVevZtdBgOF37b12/3o9bU6bM8XjxB6XYCCxk4AiBRQk4AZxg/gJSNxxyd9A3OQyN0hgpATCKBSHaIyd6Z4Zn/Hp9etl97X34nnEP/zsgb5zZ4PXr085PrxGlQt6az16a5uYSK4vLknzguPTS6QjQWi69YA//fF73LqxTlIIfvavn/Ps6BKkhSotRJngS0WWJ1wNRnheH8uy8cyIo69OmS4mvP/OTf72b/4SmRcaabkI08S0LHa27zKYTXhzdE7VDxBCE6c5lltBqRLLMbG9Kvsnx5ycH1AaVUZRjJaSsrRR2gWRkxcRpcrJU02cjKnVKliOhbAMDKdJkrv8/Of/g/jHf3qoq1UXVeRkSY7WIVKWCA2TyRLT9pG2x2S2ZDAekyYpt29u4ntT8ngBosFwIYkpKXKTNAHHXkA2QGuTOPZI0hi/oqlYDqJYcj5wqDg2y+k+EqmZLkO0LkBlxNML5uMDHDMnUR6yukoQuKw0m6y0O6RpyeDyhKIK12dXDK8PsQOHes/BKGpYGWyv1zCMCouFYlLE2GqES07X82k3MyqWgSWrLCom0mKC7zTQKqDUE7Z6rxkUj1kkLYqij0mLIrrAcJ/j2S5WmVOp1EmcJieTA4rpjPVOzm7X5eXrgAf/ecLL7fv0NzpUhMM7t+ZsrEzIooKVXkZZnPL+TpVmY5fxXCJ3qy9wnYAwNChlyjvr/4u/84KL67uM1YzCKUF38Jo5hjXCLgxUkbIUI761HZDNSta6CttK2erEjEeKh0+e8+ZZxFq7ycdvdbi/syDJctJcEIYpvswQ+RTHiBGLk7/WhUrIyjqLuKQ2fw6TIxZpFdP3qXZctOOSGXVy5WFS5SwKkV6JTmwsu8QUOfEyJcoV2uxycOixf/gNqysN7mwrZD6gtARR3mA293ClotUoiPMQcfT4L7RraaZxG99cMHj6hjevC7b2XLbWFiShwHRjmmtztK7yZrHHi9Hb6PwaYV5h+S5FLihygyTJqDrr5LHPIv+aZZIgxIhGYJGVBuO5Rto1TENhqhKtC+TJXGNowTQSbPpVrIaFUYswsxw1D4nTHjrySOMxq9twPtUcD8eobIrtKuQiRmcFSlsoJTDqTWaTOZkxZbIMcWQFiz5pZrKYTpBugu1qplcZURQiD0aSonRRyiaO72LrDit3XnKjfkkZpqg4YjJ0iZMapbvBaL5HvBwyTxOKuaIsQpzcQDsKyzbZakZcjb4iLHI21t6nW98hnApUnOEaC9BjVDLh1dFTDFkgL0aCEk1RpMwthW3vcaLX+Ca94kbjkq3dQ0znFJ3VmecWxxcwjGMynSG0x8VgRN2UuB7c2qixXVsw6sQs7e8xHW3w8tFz5rMZaaxxHQNVhjQaNXxrm8H4G+RwNqfAJM1zAitEFQGWeYte+w5u8CHj0yuc7Cnr60NOrkqOLkeM8zFxNiWw26SJRSQl6IS1eoVwWrDW/ZhHR4JXL79kMTsmjFMs4eD6LYxScvh6Tr1fo+ZsImeTBC0M4nyOkg6ZWiKNnHtba0STiPMrQWHeZygyosk+p5e/JBUKypJCDEmygmVc0GqaWIbLuOxwdLBGfPklrcohF5dDRvOMZqVGGEvmwymd5jrTQUpQ85CzSQi2SaIUpZuy2t+FrMrp0YDHv3mI4c9ZGEvO230+2KnyznqFL05CtEyILuZobJxA0vErNBsNJvEGT14+Z72VsNGqcGhOmFoWWliopMDDJInmNOo9FtEYI8kiDFIkCk96rLbukS4DPv30Fyim2DKjCEOWs2uODvd5Z7fHdr1JOswwCoGZa/KFZrtfJQiqvHh2zWx5wYvjVyR5zu5mjXbdphJ4uJ7D6vo6tlOhXq8iDIlhmw5GklFRirq2WW1uIBAEFdjdraOZ0WnUMUXA8YXi6HLA779dZ8sL0ALCOMHMauzt9Li+zHj85GuiVDFbwlf71zRbPe5s9qn7Fp21PkXgYvouUZoxm80xRAxVEdD3u2TjEf/94F949OTXbG0HBEGJVgbZUnF5PmSa2Dx8suB6cMAffrKBB0wuIxo12F5fYf9VhGVr2o0qGyv38Oxd8jRga2Obe7fuooVglkdM4wmpjqg2PKRXOozPp4zVAsvwuI5yEu2xs71HMjlhdFWAyBGWSWaEzOcFv/ws5M/+qMWf/Ogu/yEHfOd3+ywnCeen0G81qdc9TEfhyJAkS2g2b9GsrpKqV0QqpsxjGk2falUg48jk/CwkSSKanTXGC9i7t0OrFnA60pRYJInCMkqKdEqcL8lVm3/+933+6s9/h7//u7dwHMVPf/oZ5xdd7t7tcfNGjlsHlZuMJ3XGZ9fMLM3WjTvY5QJ3tYtdXePszdfIKNIs5wXatJktIc9y1lccKOdMx2N8z0YIie2WKO0zXi7xa5JZWOXTfzuEZMbORp3bt9qsbFUJul3OR2dEoxhDNplPlhiJxgkc+v4et7c3KeKYwmoxLR2kLS2yrKQ0XWzHJ8uWmNYMz12lUeswnw9RKqPb7mBYDS6OZyxnQ9rtPuczh/961uFy0WVwBY+fvKG6PkPbBt3OKpWqz9beNm3HpShtsAtEYdN0A07PIpqVAFmoGENCqiRRVrC1e5N2f4MwS4jymFk0oxAuCoElLerdOhcnx8R+iN+oQrPHaST4xYPfMhpl3A96/OCH92nUPaqBj9YmIo+xRIIbSBR1HLPCaPx/bK24GP2VKr2VBgjBYDyg0V8j1wFngyGZWRCqjOvZmMF8ypuTUyZhBrrJ9VlIt9FktdEkGg/4/sff5ic/+YDRaEKSmaRFxDIMSaMCWZQYechydEWvd4PHLw+QQUZrxUPaNc36zTaXgxFhLFhbXyEsxoRqwTLWJKlmPp+QFzGWZSK1QFolvuuytbKFZ1YJ/Bq1Rg1bOgwHOY8+/4rvf/IRqZkizATh2Li+h1/t8uzgFLyM7773XVpBDRmhsOsBib6gu7GBU/H5ev8RtoxIE2h0GjiuQcV18G2HfqeHaQk0BlkZcTk+w/YkFBkqifjw7i5Pn+/z6199xr1336K/0iEsLbR2OHpxRKo9Pv7kB1gq5uR4gDw4G5IlEOYp99/+NsPxFY8/f8raags/cHEci3Z9lV69TqdaJfBcnIpDlOVEiSbNDVzTpCpddJjgSYeNP/gOX7zc5+EXX5KXObdvb/J7H33E9z75CEP7HJ9eUcRTfFciX311ji19CmVy89Ztnj17gKVKPO1StR1MYdOqtvE9Hy0tFCVGnhE4HlXXBQSiKLDRlJaFMAqwUt56dx2/X6PT6PPR++9Ra7UZXY+ZDy8wsHE8F9u2kNE8JzNK1lZu0u/U+dXlMWudFv1Wi3avguNWMG0JBoCBZUlMIbC0RCIxdIEwTGxHUnomi3TGMltiWh7v3r/H7RvfIp8XvH56RFmWmEAhEjSaKE6QUppE84wP/vhDwsUpnVaDfqdN4Nl4rkNupJS2xtUmVcuhZjkYwkRlmiRbIMoSQwrSwiQuYpaZYnX1Dr3uDcJFyaPffk0WRdiOgzRNhDDQGAhhUGqN3N5aZ3CRsLnR5fjgOTdWVwhcF8cy8UyHQAowLMxS45gOhnbIspQ4WSIMje1YLPMMS1fore+wF2yRRAZH+1fEUYppaAwsVKYRtoG0JIY0EYZAFyXy7s1tlqOXPPzNA7a3WrRbdXzbo1AKoyjxpE0WF5RlySia4vo+rmeRUiANgV/x2Fu5Ra+/SZpqLk5mzGcxllkStD3QoAtBWZaUZQkITEtiOw5ojay4Jo2KTTi/ptvepMgSMlWg0pJwEWIaAtf3SQsFtqDTsAiTiEKX3Lv5Nm/tvY0UNocHp4yHMxzHpRII0rTAdV1cx2O5CMnzEmkZpFmOKk1EoUjTlP8HXZ3ea4Z/VvkAAAAASUVORK5CYII=', 'encoding': 'BASE64'}, 'endpointOutput': {'observedContentType': 'application/json', 'mode': 'OUTPUT', 'data': '[0.9189274907112122, 0.08107244968414307]', 'encoding': 'JSON'}}, 'eventMetadata': {'eventId': '1eef99d4-e143-4fa7-b7ad-f38feb984fe8', 'inferenceTime': '2023-09-12T14:53:56Z'}, 'eventVersion': '0'}\n"
     ]
    }
   ],
   "source": [
    "print(json_data[4])"
   ]
  },
  {
   "cell_type": "markdown",
   "metadata": {},
   "source": [
    "Finally, here's an example of a visualization you can build with this data. In this last part, you will take some time and build your own - the captured data has the input images, the resulting inferences, and the timestamps."
   ]
  },
  {
   "cell_type": "code",
   "execution_count": 74,
   "metadata": {},
   "outputs": [
    {
     "name": "stderr",
     "output_type": "stream",
     "text": [
      "INFO:matplotlib.category:Using categorical units to plot a list of strings that are all parsable as floats or dates. If these strings should be plotted as numbers, cast to the appropriate data type before plotting.\n",
      "INFO:matplotlib.category:Using categorical units to plot a list of strings that are all parsable as floats or dates. If these strings should be plotted as numbers, cast to the appropriate data type before plotting.\n"
     ]
    },
    {
     "data": {
      "image/png": "[encoded data removed]",
      "text/plain": [
       "<Figure size 640x480 with 1 Axes>"
      ]
     },
     "metadata": {},
     "output_type": "display_data"
    }
   ],
   "source": [
    "import matplotlib.pyplot as plt\n",
    "# Populate the data for the x and y axis\n",
    "x = []\n",
    "y = []\n",
    "for obj in json_data:\n",
    "    inference, timestamp = simple_getter(obj)\n",
    "    \n",
    "    y.append(max(inference))\n",
    "    x.append(timestamp)\n",
    "\n",
    "# Todo: here is an visualization example, take some time to build another visual that helps monitor the result\n",
    "# Plot the data\n",
    "plt.scatter(x, y, c=['r' if k<.94 else 'b' for k in y ])\n",
    "plt.axhline(y=0.9, color='g', linestyle='--')\n",
    "plt.ylim(bottom=.88)\n",
    "\n",
    "# Add labels\n",
    "plt.ylabel(\"Confidence\")\n",
    "plt.suptitle(\"Observed Recent Inferences\", size=14)\n",
    "plt.title(\"Pictured with confidence threshold for production use\", size=10)\n",
    "\n",
    "# Give it some pizzaz!\n",
    "plt.style.use(\"Solarize_Light2\")\n",
    "plt.gcf().autofmt_xdate()\n",
    "plt.show()"
   ]
  },
  {
   "cell_type": "markdown",
   "metadata": {},
   "source": [
    "### Todo: build your own visualization\n"
   ]
  },
  {
   "cell_type": "code",
   "execution_count": 111,
   "metadata": {
    "tags": []
   },
   "outputs": [
    {
     "name": "stderr",
     "output_type": "stream",
     "text": [
      "INFO:matplotlib.category:Using categorical units to plot a list of strings that are all parsable as floats or dates. If these strings should be plotted as numbers, cast to the appropriate data type before plotting.\n",
      "INFO:matplotlib.category:Using categorical units to plot a list of strings that are all parsable as floats or dates. If these strings should be plotted as numbers, cast to the appropriate data type before plotting.\n",
      "INFO:matplotlib.category:Using categorical units to plot a list of strings that are all parsable as floats or dates. If these strings should be plotted as numbers, cast to the appropriate data type before plotting.\n"
     ]
    },
    {
     "data": {
      "image/png": "[encoded data removed]",
      "text/plain": [
       "<Figure size 640x480 with 1 Axes>"
      ]
     },
     "metadata": {},
     "output_type": "display_data"
    }
   ],
   "source": [
    "import matplotlib.pyplot as plt\n",
    "# Populate the data for the x and y axis\n",
    "x0 = []\n",
    "y0 = []\n",
    "x1 = []\n",
    "y1 = []\n",
    "\n",
    "for obj in json_data:\n",
    "    inference, timestamp = simple_getter(obj)\n",
    "    if inference[0] > inference[1]:\n",
    "        y0.append(max(inference))\n",
    "        x0.append(timestamp)\n",
    "    else:\n",
    "        y1.append(max(inference))\n",
    "        x1.append(timestamp)\n",
    "\n",
    "\n",
    "# Todo: here is an visualization example, take some time to build another visual that helps monitor the result\n",
    "# Plot the data\n",
    "\n",
    "scatter0 = plt.scatter(x0, y0, color='blue', label='Bicycle')\n",
    "scatter1 = plt.scatter(x1, y1, color='red', label='Motorcycle')\n",
    "\n",
    "legend_handles = [scatter0, scatter1]\n",
    "legend_labels = ['Bicycle', 'Motorcycle']\n",
    "plt.legend(handles=legend_handles, labels=legend_labels)\n",
    "\n",
    "plt.axhline(y=0.8, color='g', linestyle='--')\n",
    "plt.ylim(bottom=.78)\n",
    "\n",
    "# Add labels\n",
    "plt.ylabel(\"Confidence\")\n",
    "plt.suptitle(\"Observed Recent Inferences Between Bicycle and Motorcycle\", size=12)\n",
    "plt.title(\"Pictured with confidence threshold for production use\", size=10)\n",
    "\n",
    "# Give it some pizzaz!\n",
    "plt.style.use(\"bmh\")\n",
    "plt.gcf().autofmt_xdate()\n",
    "plt.show()"
   ]
  },
  {
   "cell_type": "markdown",
   "metadata": {},
   "source": [
    "### Congratulations!\n",
    "\n",
    "You've reached the end of the project. In this project you created an event-drivent ML workflow that can be incorporated into the Scones Unlimited production architecture. You used the SageMaker Estimator API to deploy your SageMaker Model and Endpoint, and you used AWS Lambda and Step Functions to orchestrate your ML workflow. Using SageMaker Model Monitor, you instrumented and observed your Endpoint, and at the end of the project you built a visualization to help stakeholders understand the performance of the Endpoint over time. If you're up for it, you can even go further with these stretch goals:\n",
    "\n",
    "* Extend your workflow to incorporate more classes: the CIFAR dataset includes other vehicles that Scones Unlimited can identify with this model.\n",
    "* Modify your event driven workflow: can you rewrite your Lambda functions so that the workflow can process multiple image inputs in parallel? Can the Step Function \"fan out\" to accomodate this new workflow?\n",
    "* Consider the test data generator we provided for you. Can we use it to create a \"dummy data\" generator, to simulate a continuous stream of input data? Or a big paralell load of data?\n",
    "* What if we want to get notified every time our step function errors out? Can we use the Step Functions visual editor in conjunction with a service like SNS to accomplish this? Try it out!\n",
    "\n",
    "\n"
   ]
  },
  {
   "cell_type": "code",
   "execution_count": 114,
   "metadata": {
    "tags": []
   },
   "outputs": [],
   "source": [
    "import boto3\n",
    "import json\n",
    "\n",
    "# Create a Step Functions client\n",
    "client = boto3.client('stepfunctions')\n",
    "\n",
    "# Retrieve the definition of the state machine\n",
    "response = client.describe_state_machine(stateMachineArn='arn:aws:states:us-east-1:842592891764:stateMachine:MyStateMachine-qfrmktxur')\n",
    "\n",
    "# Extract the definition from the response\n",
    "definition = response['definition']\n",
    "\n",
    "# Save the definition as a JSON file\n",
    "with open('step_function.json', 'w') as file:\n",
    "    json.dump(definition, file, indent=4)"
   ]
  },
  {
   "cell_type": "code",
   "execution_count": null,
   "metadata": {},
   "outputs": [],
   "source": []
  }
 ],
 "metadata": {
  "availableInstances": [
   {
    "_defaultOrder": 0,
    "_isFastLaunch": true,
    "category": "General purpose",
    "gpuNum": 0,
    "hideHardwareSpecs": false,
    "memoryGiB": 4,
    "name": "ml.t3.medium",
    "vcpuNum": 2
   },
   {
    "_defaultOrder": 1,
    "_isFastLaunch": false,
    "category": "General purpose",
    "gpuNum": 0,
    "hideHardwareSpecs": false,
    "memoryGiB": 8,
    "name": "ml.t3.large",
    "vcpuNum": 2
   },
   {
    "_defaultOrder": 2,
    "_isFastLaunch": false,
    "category": "General purpose",
    "gpuNum": 0,
    "hideHardwareSpecs": false,
    "memoryGiB": 16,
    "name": "ml.t3.xlarge",
    "vcpuNum": 4
   },
   {
    "_defaultOrder": 3,
    "_isFastLaunch": false,
    "category": "General purpose",
    "gpuNum": 0,
    "hideHardwareSpecs": false,
    "memoryGiB": 32,
    "name": "ml.t3.2xlarge",
    "vcpuNum": 8
   },
   {
    "_defaultOrder": 4,
    "_isFastLaunch": true,
    "category": "General purpose",
    "gpuNum": 0,
    "hideHardwareSpecs": false,
    "memoryGiB": 8,
    "name": "ml.m5.large",
    "vcpuNum": 2
   },
   {
    "_defaultOrder": 5,
    "_isFastLaunch": false,
    "category": "General purpose",
    "gpuNum": 0,
    "hideHardwareSpecs": false,
    "memoryGiB": 16,
    "name": "ml.m5.xlarge",
    "vcpuNum": 4
   },
   {
    "_defaultOrder": 6,
    "_isFastLaunch": false,
    "category": "General purpose",
    "gpuNum": 0,
    "hideHardwareSpecs": false,
    "memoryGiB": 32,
    "name": "ml.m5.2xlarge",
    "vcpuNum": 8
   },
   {
    "_defaultOrder": 7,
    "_isFastLaunch": false,
    "category": "General purpose",
    "gpuNum": 0,
    "hideHardwareSpecs": false,
    "memoryGiB": 64,
    "name": "ml.m5.4xlarge",
    "vcpuNum": 16
   },
   {
    "_defaultOrder": 8,
    "_isFastLaunch": false,
    "category": "General purpose",
    "gpuNum": 0,
    "hideHardwareSpecs": false,
    "memoryGiB": 128,
    "name": "ml.m5.8xlarge",
    "vcpuNum": 32
   },
   {
    "_defaultOrder": 9,
    "_isFastLaunch": false,
    "category": "General purpose",
    "gpuNum": 0,
    "hideHardwareSpecs": false,
    "memoryGiB": 192,
    "name": "ml.m5.12xlarge",
    "vcpuNum": 48
   },
   {
    "_defaultOrder": 10,
    "_isFastLaunch": false,
    "category": "General purpose",
    "gpuNum": 0,
    "hideHardwareSpecs": false,
    "memoryGiB": 256,
    "name": "ml.m5.16xlarge",
    "vcpuNum": 64
   },
   {
    "_defaultOrder": 11,
    "_isFastLaunch": false,
    "category": "General purpose",
    "gpuNum": 0,
    "hideHardwareSpecs": false,
    "memoryGiB": 384,
    "name": "ml.m5.24xlarge",
    "vcpuNum": 96
   },
   {
    "_defaultOrder": 12,
    "_isFastLaunch": false,
    "category": "General purpose",
    "gpuNum": 0,
    "hideHardwareSpecs": false,
    "memoryGiB": 8,
    "name": "ml.m5d.large",
    "vcpuNum": 2
   },
   {
    "_defaultOrder": 13,
    "_isFastLaunch": false,
    "category": "General purpose",
    "gpuNum": 0,
    "hideHardwareSpecs": false,
    "memoryGiB": 16,
    "name": "ml.m5d.xlarge",
    "vcpuNum": 4
   },
   {
    "_defaultOrder": 14,
    "_isFastLaunch": false,
    "category": "General purpose",
    "gpuNum": 0,
    "hideHardwareSpecs": false,
    "memoryGiB": 32,
    "name": "ml.m5d.2xlarge",
    "vcpuNum": 8
   },
   {
    "_defaultOrder": 15,
    "_isFastLaunch": false,
    "category": "General purpose",
    "gpuNum": 0,
    "hideHardwareSpecs": false,
    "memoryGiB": 64,
    "name": "ml.m5d.4xlarge",
    "vcpuNum": 16
   },
   {
    "_defaultOrder": 16,
    "_isFastLaunch": false,
    "category": "General purpose",
    "gpuNum": 0,
    "hideHardwareSpecs": false,
    "memoryGiB": 128,
    "name": "ml.m5d.8xlarge",
    "vcpuNum": 32
   },
   {
    "_defaultOrder": 17,
    "_isFastLaunch": false,
    "category": "General purpose",
    "gpuNum": 0,
    "hideHardwareSpecs": false,
    "memoryGiB": 192,
    "name": "ml.m5d.12xlarge",
    "vcpuNum": 48
   },
   {
    "_defaultOrder": 18,
    "_isFastLaunch": false,
    "category": "General purpose",
    "gpuNum": 0,
    "hideHardwareSpecs": false,
    "memoryGiB": 256,
    "name": "ml.m5d.16xlarge",
    "vcpuNum": 64
   },
   {
    "_defaultOrder": 19,
    "_isFastLaunch": false,
    "category": "General purpose",
    "gpuNum": 0,
    "hideHardwareSpecs": false,
    "memoryGiB": 384,
    "name": "ml.m5d.24xlarge",
    "vcpuNum": 96
   },
   {
    "_defaultOrder": 20,
    "_isFastLaunch": false,
    "category": "General purpose",
    "gpuNum": 0,
    "hideHardwareSpecs": true,
    "memoryGiB": 0,
    "name": "ml.geospatial.interactive",
    "supportedImageNames": [
     "sagemaker-geospatial-v1-0"
    ],
    "vcpuNum": 0
   },
   {
    "_defaultOrder": 21,
    "_isFastLaunch": true,
    "category": "Compute optimized",
    "gpuNum": 0,
    "hideHardwareSpecs": false,
    "memoryGiB": 4,
    "name": "ml.c5.large",
    "vcpuNum": 2
   },
   {
    "_defaultOrder": 22,
    "_isFastLaunch": false,
    "category": "Compute optimized",
    "gpuNum": 0,
    "hideHardwareSpecs": false,
    "memoryGiB": 8,
    "name": "ml.c5.xlarge",
    "vcpuNum": 4
   },
   {
    "_defaultOrder": 23,
    "_isFastLaunch": false,
    "category": "Compute optimized",
    "gpuNum": 0,
    "hideHardwareSpecs": false,
    "memoryGiB": 16,
    "name": "ml.c5.2xlarge",
    "vcpuNum": 8
   },
   {
    "_defaultOrder": 24,
    "_isFastLaunch": false,
    "category": "Compute optimized",
    "gpuNum": 0,
    "hideHardwareSpecs": false,
    "memoryGiB": 32,
    "name": "ml.c5.4xlarge",
    "vcpuNum": 16
   },
   {
    "_defaultOrder": 25,
    "_isFastLaunch": false,
    "category": "Compute optimized",
    "gpuNum": 0,
    "hideHardwareSpecs": false,
    "memoryGiB": 72,
    "name": "ml.c5.9xlarge",
    "vcpuNum": 36
   },
   {
    "_defaultOrder": 26,
    "_isFastLaunch": false,
    "category": "Compute optimized",
    "gpuNum": 0,
    "hideHardwareSpecs": false,
    "memoryGiB": 96,
    "name": "ml.c5.12xlarge",
    "vcpuNum": 48
   },
   {
    "_defaultOrder": 27,
    "_isFastLaunch": false,
    "category": "Compute optimized",
    "gpuNum": 0,
    "hideHardwareSpecs": false,
    "memoryGiB": 144,
    "name": "ml.c5.18xlarge",
    "vcpuNum": 72
   },
   {
    "_defaultOrder": 28,
    "_isFastLaunch": false,
    "category": "Compute optimized",
    "gpuNum": 0,
    "hideHardwareSpecs": false,
    "memoryGiB": 192,
    "name": "ml.c5.24xlarge",
    "vcpuNum": 96
   },
   {
    "_defaultOrder": 29,
    "_isFastLaunch": true,
    "category": "Accelerated computing",
    "gpuNum": 1,
    "hideHardwareSpecs": false,
    "memoryGiB": 16,
    "name": "ml.g4dn.xlarge",
    "vcpuNum": 4
   },
   {
    "_defaultOrder": 30,
    "_isFastLaunch": false,
    "category": "Accelerated computing",
    "gpuNum": 1,
    "hideHardwareSpecs": false,
    "memoryGiB": 32,
    "name": "ml.g4dn.2xlarge",
    "vcpuNum": 8
   },
   {
    "_defaultOrder": 31,
    "_isFastLaunch": false,
    "category": "Accelerated computing",
    "gpuNum": 1,
    "hideHardwareSpecs": false,
    "memoryGiB": 64,
    "name": "ml.g4dn.4xlarge",
    "vcpuNum": 16
   },
   {
    "_defaultOrder": 32,
    "_isFastLaunch": false,
    "category": "Accelerated computing",
    "gpuNum": 1,
    "hideHardwareSpecs": false,
    "memoryGiB": 128,
    "name": "ml.g4dn.8xlarge",
    "vcpuNum": 32
   },
   {
    "_defaultOrder": 33,
    "_isFastLaunch": false,
    "category": "Accelerated computing",
    "gpuNum": 4,
    "hideHardwareSpecs": false,
    "memoryGiB": 192,
    "name": "ml.g4dn.12xlarge",
    "vcpuNum": 48
   },
   {
    "_defaultOrder": 34,
    "_isFastLaunch": false,
    "category": "Accelerated computing",
    "gpuNum": 1,
    "hideHardwareSpecs": false,
    "memoryGiB": 256,
    "name": "ml.g4dn.16xlarge",
    "vcpuNum": 64
   },
   {
    "_defaultOrder": 35,
    "_isFastLaunch": false,
    "category": "Accelerated computing",
    "gpuNum": 1,
    "hideHardwareSpecs": false,
    "memoryGiB": 61,
    "name": "ml.p3.2xlarge",
    "vcpuNum": 8
   },
   {
    "_defaultOrder": 36,
    "_isFastLaunch": false,
    "category": "Accelerated computing",
    "gpuNum": 4,
    "hideHardwareSpecs": false,
    "memoryGiB": 244,
    "name": "ml.p3.8xlarge",
    "vcpuNum": 32
   },
   {
    "_defaultOrder": 37,
    "_isFastLaunch": false,
    "category": "Accelerated computing",
    "gpuNum": 8,
    "hideHardwareSpecs": false,
    "memoryGiB": 488,
    "name": "ml.p3.16xlarge",
    "vcpuNum": 64
   },
   {
    "_defaultOrder": 38,
    "_isFastLaunch": false,
    "category": "Accelerated computing",
    "gpuNum": 8,
    "hideHardwareSpecs": false,
    "memoryGiB": 768,
    "name": "ml.p3dn.24xlarge",
    "vcpuNum": 96
   },
   {
    "_defaultOrder": 39,
    "_isFastLaunch": false,
    "category": "Memory Optimized",
    "gpuNum": 0,
    "hideHardwareSpecs": false,
    "memoryGiB": 16,
    "name": "ml.r5.large",
    "vcpuNum": 2
   },
   {
    "_defaultOrder": 40,
    "_isFastLaunch": false,
    "category": "Memory Optimized",
    "gpuNum": 0,
    "hideHardwareSpecs": false,
    "memoryGiB": 32,
    "name": "ml.r5.xlarge",
    "vcpuNum": 4
   },
   {
    "_defaultOrder": 41,
    "_isFastLaunch": false,
    "category": "Memory Optimized",
    "gpuNum": 0,
    "hideHardwareSpecs": false,
    "memoryGiB": 64,
    "name": "ml.r5.2xlarge",
    "vcpuNum": 8
   },
   {
    "_defaultOrder": 42,
    "_isFastLaunch": false,
    "category": "Memory Optimized",
    "gpuNum": 0,
    "hideHardwareSpecs": false,
    "memoryGiB": 128,
    "name": "ml.r5.4xlarge",
    "vcpuNum": 16
   },
   {
    "_defaultOrder": 43,
    "_isFastLaunch": false,
    "category": "Memory Optimized",
    "gpuNum": 0,
    "hideHardwareSpecs": false,
    "memoryGiB": 256,
    "name": "ml.r5.8xlarge",
    "vcpuNum": 32
   },
   {
    "_defaultOrder": 44,
    "_isFastLaunch": false,
    "category": "Memory Optimized",
    "gpuNum": 0,
    "hideHardwareSpecs": false,
    "memoryGiB": 384,
    "name": "ml.r5.12xlarge",
    "vcpuNum": 48
   },
   {
    "_defaultOrder": 45,
    "_isFastLaunch": false,
    "category": "Memory Optimized",
    "gpuNum": 0,
    "hideHardwareSpecs": false,
    "memoryGiB": 512,
    "name": "ml.r5.16xlarge",
    "vcpuNum": 64
   },
   {
    "_defaultOrder": 46,
    "_isFastLaunch": false,
    "category": "Memory Optimized",
    "gpuNum": 0,
    "hideHardwareSpecs": false,
    "memoryGiB": 768,
    "name": "ml.r5.24xlarge",
    "vcpuNum": 96
   },
   {
    "_defaultOrder": 47,
    "_isFastLaunch": false,
    "category": "Accelerated computing",
    "gpuNum": 1,
    "hideHardwareSpecs": false,
    "memoryGiB": 16,
    "name": "ml.g5.xlarge",
    "vcpuNum": 4
   },
   {
    "_defaultOrder": 48,
    "_isFastLaunch": false,
    "category": "Accelerated computing",
    "gpuNum": 1,
    "hideHardwareSpecs": false,
    "memoryGiB": 32,
    "name": "ml.g5.2xlarge",
    "vcpuNum": 8
   },
   {
    "_defaultOrder": 49,
    "_isFastLaunch": false,
    "category": "Accelerated computing",
    "gpuNum": 1,
    "hideHardwareSpecs": false,
    "memoryGiB": 64,
    "name": "ml.g5.4xlarge",
    "vcpuNum": 16
   },
   {
    "_defaultOrder": 50,
    "_isFastLaunch": false,
    "category": "Accelerated computing",
    "gpuNum": 1,
    "hideHardwareSpecs": false,
    "memoryGiB": 128,
    "name": "ml.g5.8xlarge",
    "vcpuNum": 32
   },
   {
    "_defaultOrder": 51,
    "_isFastLaunch": false,
    "category": "Accelerated computing",
    "gpuNum": 1,
    "hideHardwareSpecs": false,
    "memoryGiB": 256,
    "name": "ml.g5.16xlarge",
    "vcpuNum": 64
   },
   {
    "_defaultOrder": 52,
    "_isFastLaunch": false,
    "category": "Accelerated computing",
    "gpuNum": 4,
    "hideHardwareSpecs": false,
    "memoryGiB": 192,
    "name": "ml.g5.12xlarge",
    "vcpuNum": 48
   },
   {
    "_defaultOrder": 53,
    "_isFastLaunch": false,
    "category": "Accelerated computing",
    "gpuNum": 4,
    "hideHardwareSpecs": false,
    "memoryGiB": 384,
    "name": "ml.g5.24xlarge",
    "vcpuNum": 96
   },
   {
    "_defaultOrder": 54,
    "_isFastLaunch": false,
    "category": "Accelerated computing",
    "gpuNum": 8,
    "hideHardwareSpecs": false,
    "memoryGiB": 768,
    "name": "ml.g5.48xlarge",
    "vcpuNum": 192
   },
   {
    "_defaultOrder": 55,
    "_isFastLaunch": false,
    "category": "Accelerated computing",
    "gpuNum": 8,
    "hideHardwareSpecs": false,
    "memoryGiB": 1152,
    "name": "ml.p4d.24xlarge",
    "vcpuNum": 96
   },
   {
    "_defaultOrder": 56,
    "_isFastLaunch": false,
    "category": "Accelerated computing",
    "gpuNum": 8,
    "hideHardwareSpecs": false,
    "memoryGiB": 1152,
    "name": "ml.p4de.24xlarge",
    "vcpuNum": 96
   }
  ],
  "kernelspec": {
   "display_name": "Python 3 (Data Science)",
   "language": "python",
   "name": "python3__SAGEMAKER_INTERNAL__arn:aws:sagemaker:us-east-1:081325390199:image/datascience-1.0"
  },
  "language_info": {
   "codemirror_mode": {
    "name": "ipython",
    "version": 3
   },
   "file_extension": ".py",
   "mimetype": "text/x-python",
   "name": "python",
   "nbconvert_exporter": "python",
   "pygments_lexer": "ipython3",
   "version": "3.7.10"
  }
 },
 "nbformat": 4,
 "nbformat_minor": 4
}
